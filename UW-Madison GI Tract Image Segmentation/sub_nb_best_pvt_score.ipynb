{
 "cells": [
  {
   "cell_type": "markdown",
   "id": "9558f211",
   "metadata": {
    "papermill": {
     "duration": 0.038611,
     "end_time": "2022-07-14T11:53:34.268061",
     "exception": false,
     "start_time": "2022-07-14T11:53:34.229450",
     "status": "completed"
    },
    "tags": []
   },
   "source": [
    "# 🛠 Install Libraries"
   ]
  },
  {
   "cell_type": "code",
   "execution_count": null,
   "id": "b8ce69aa-e3a8-4d1a-b9c3-6aba2e01284f",
   "metadata": {},
   "outputs": [],
   "source": []
  },
  {
   "cell_type": "code",
   "execution_count": 1,
   "id": "4008da73",
   "metadata": {
    "_kg_hide-input": true,
    "_kg_hide-output": true,
    "execution": {
     "iopub.execute_input": "2022-07-14T11:53:34.350334Z",
     "iopub.status.busy": "2022-07-14T11:53:34.348649Z",
     "iopub.status.idle": "2022-07-14T11:55:35.742829Z",
     "shell.execute_reply": "2022-07-14T11:55:35.741808Z",
     "shell.execute_reply.started": "2022-07-14T11:26:57.490250Z"
    },
    "papermill": {
     "duration": 121.43437,
     "end_time": "2022-07-14T11:55:35.743025",
     "exception": false,
     "start_time": "2022-07-14T11:53:34.308655",
     "status": "completed"
    },
    "tags": []
   },
   "outputs": [
    {
     "name": "stdout",
     "output_type": "stream",
     "text": [
      "\u001b[33m  DEPRECATION: A future pip version will change local packages to be built in-place without first copying to a temporary directory. We recommend you use --use-feature=in-tree-build to test your packages with this new behavior before it becomes the default.\n",
      "   pip 21.3 will remove support for this functionality. You can find discussion regarding this at https://github.com/pypa/pip/issues/7555.\u001b[0m\n",
      "\u001b[33mWARNING: Running pip as the 'root' user can result in broken permissions and conflicting behaviour with the system package manager. It is recommended to use a virtual environment instead: https://pip.pypa.io/warnings/venv\u001b[0m\n",
      "\u001b[33m  DEPRECATION: A future pip version will change local packages to be built in-place without first copying to a temporary directory. We recommend you use --use-feature=in-tree-build to test your packages with this new behavior before it becomes the default.\n",
      "   pip 21.3 will remove support for this functionality. You can find discussion regarding this at https://github.com/pypa/pip/issues/7555.\u001b[0m\n",
      "\u001b[33mWARNING: Running pip as the 'root' user can result in broken permissions and conflicting behaviour with the system package manager. It is recommended to use a virtual environment instead: https://pip.pypa.io/warnings/venv\u001b[0m\n",
      "\u001b[33mWARNING: Running pip as the 'root' user can result in broken permissions and conflicting behaviour with the system package manager. It is recommended to use a virtual environment instead: https://pip.pypa.io/warnings/venv\u001b[0m\n",
      "\u001b[33mWARNING: Running pip as the 'root' user can result in broken permissions and conflicting behaviour with the system package manager. It is recommended to use a virtual environment instead: https://pip.pypa.io/warnings/venv\u001b[0m\n"
     ]
    }
   ],
   "source": [
    "!pip install -q ../input/pytorch-segmentation-models-lib/pretrainedmodels-0.7.4/pretrainedmodels-0.7.4\n",
    "!pip install -q ../input/pytorch-segmentation-models-lib/efficientnet_pytorch-0.6.3/efficientnet_pytorch-0.6.3\n",
    "!pip install -q ../input/pytorch-segmentation-models-lib/timm-0.4.12-py3-none-any.whl\n",
    "# !pip install -q ../input/pytorch-segmentation-models-lib/segmentation_models_pytorch-0.2.0-py3-none-any.whl\n",
    "!pip install -q ../input/segmentation-models-pytorch-021/segmentation_models_pytorch-0.2.1-py3-none-any.whl\n",
    "# !pip install -q ../input/segmentation-tta-qubvel/ttach-0.0.3-py3-none-any.whl\n",
    "# !pip install -q ../input/ttachseg/ttach-master\n",
    "# !pip install ipdb"
   ]
  },
  {
   "cell_type": "markdown",
   "id": "2d713bf5",
   "metadata": {
    "papermill": {
     "duration": 0.039163,
     "end_time": "2022-07-14T11:55:35.822045",
     "exception": false,
     "start_time": "2022-07-14T11:55:35.782882",
     "status": "completed"
    },
    "tags": []
   },
   "source": [
    "# 📚 Import Libraries "
   ]
  },
  {
   "cell_type": "code",
   "execution_count": 2,
   "id": "5bd56d73",
   "metadata": {
    "_kg_hide-input": true,
    "execution": {
     "iopub.execute_input": "2022-07-14T11:55:35.912435Z",
     "iopub.status.busy": "2022-07-14T11:55:35.911219Z",
     "iopub.status.idle": "2022-07-14T11:55:45.854836Z",
     "shell.execute_reply": "2022-07-14T11:55:45.853813Z",
     "shell.execute_reply.started": "2022-07-14T11:28:52.840518Z"
    },
    "papermill": {
     "duration": 9.994691,
     "end_time": "2022-07-14T11:55:45.855050",
     "exception": false,
     "start_time": "2022-07-14T11:55:35.860359",
     "status": "completed"
    },
    "tags": []
   },
   "outputs": [],
   "source": [
    "import re\n",
    "from collections import Counter\n",
    "import numpy as np\n",
    "import pandas as pd\n",
    "pd.options.plotting.backend = \"plotly\"\n",
    "import random\n",
    "from glob import glob\n",
    "import os, shutil\n",
    "from tqdm import tqdm\n",
    "tqdm.pandas()\n",
    "import time\n",
    "import copy\n",
    "import joblib\n",
    "from collections import defaultdict\n",
    "import gc\n",
    "from IPython import display as ipd\n",
    "# import ttach as tta\n",
    "from pathlib import Path\n",
    "from joblib import Parallel, delayed\n",
    "\n",
    "# visualization\n",
    "import cv2\n",
    "import matplotlib.pyplot as plt\n",
    "\n",
    "# Sklearn\n",
    "from sklearn.model_selection import StratifiedKFold, KFold\n",
    "\n",
    "# PyTorch \n",
    "import torch\n",
    "import torch.nn as nn\n",
    "import torch.optim as optim\n",
    "from torch.optim import lr_scheduler\n",
    "from torch.utils.data import Dataset, DataLoader\n",
    "from torch.cuda import amp\n",
    "import torch.nn.functional as F\n",
    "\n",
    "import timm\n",
    "\n",
    "# Albumentations for augmentations\n",
    "import albumentations as A\n",
    "from albumentations.pytorch import ToTensorV2\n",
    "\n",
    "# For colored terminal text\n",
    "from colorama import Fore, Back, Style\n",
    "c_  = Fore.GREEN\n",
    "sr_ = Style.RESET_ALL\n",
    "\n",
    "import warnings\n",
    "warnings.filterwarnings(\"ignore\")\n",
    "\n",
    "# For descriptive error messages\n",
    "os.environ['CUDA_LAUNCH_BLOCKING'] = \"1\""
   ]
  },
  {
   "cell_type": "markdown",
   "id": "bf02c12b",
   "metadata": {
    "papermill": {
     "duration": 0.059892,
     "end_time": "2022-07-14T11:55:46.118283",
     "exception": false,
     "start_time": "2022-07-14T11:55:46.058391",
     "status": "completed"
    },
    "tags": []
   },
   "source": [
    "# ⚙️ Configuration "
   ]
  },
  {
   "cell_type": "code",
   "execution_count": 3,
   "id": "c895f2b0",
   "metadata": {
    "_kg_hide-input": true,
    "execution": {
     "iopub.execute_input": "2022-07-14T11:55:46.334665Z",
     "iopub.status.busy": "2022-07-14T11:55:46.253564Z",
     "iopub.status.idle": "2022-07-14T11:55:46.343194Z",
     "shell.execute_reply": "2022-07-14T11:55:46.344231Z",
     "shell.execute_reply.started": "2022-07-14T11:29:03.459667Z"
    },
    "papermill": {
     "duration": 0.163422,
     "end_time": "2022-07-14T11:55:46.344486",
     "exception": false,
     "start_time": "2022-07-14T11:55:46.181064",
     "status": "completed"
    },
    "tags": []
   },
   "outputs": [],
   "source": [
    "class CFG:\n",
    "    seed          = 101\n",
    "    debug         = False # set debug=False for Full Training\n",
    "    exp_name      = 'v4'\n",
    "    comment       = 'unet-efficientnet_b0-320x384'\n",
    "    bb_path       = []\n",
    "    model_name    = 'Unet'\n",
    "    backbone      = {'rsn269':'tu-resnest269e',\n",
    "                     'rrs420':'tu-resnetrs420', \n",
    "                     'v2l21':'tu-tf_efficientnetv2_l_in21ft1k', \n",
    "                     'b7':'efficientnet-b7', \n",
    "                     'b5':'efficientnet-b5', \n",
    "                     'tb8':'timm-efficientnet-b8', \n",
    "                     'rsn5040':'tu-resnest50d_4s2x40d',\n",
    "                     'ecnfl2':'tu-eca_nfnet_l2',\n",
    "                     'ecr269':'tu-ecaresnet269d',\n",
    "                    }\n",
    "    shared_enc    = True\n",
    "    train_bs      = 40\n",
    "    valid_bs      = train_bs*2\n",
    "    img_size      = [320, 384]\n",
    "    epochs        = 16\n",
    "    lr            = 2e-3\n",
    "    scheduler     = 'CosineAnnealingLR'\n",
    "    min_lr        = 1e-6\n",
    "    T_max         = int(30000/train_bs*epochs)+50\n",
    "    T_0           = 25\n",
    "    warmup_epochs = 0\n",
    "    wd            = 1e-6\n",
    "    n_accumulate  = max(1, 32//train_bs)\n",
    "    n_fold        = 5\n",
    "    folds         = [0]\n",
    "    num_classes   = 3\n",
    "    thr           = [0.33, 0.37, 0.4]\n",
    "    device        = torch.device(\"cuda:0\" if torch.cuda.is_available() else \"cpu\")\n",
    "    scaling_factor = 16384.0\n",
    "    TTA_FLAG      = False\n",
    "    cropped_analysis = True\n",
    "    \n",
    "BASE_PATH  = '/kaggle/input/uw-madison-gi-tract-image-segmentation'\n",
    "# CKPT_DIR = '/kaggle/input/uwmgi-unet-effnetb0-25d-320x384-ckpt-ds'\n",
    "CKPT_DIRS = [\n",
    "    '../input/full-rsn5040-bs80-e25',\n",
    "#     '../input/full-v2l21-bs48-e25',\n",
    "#     '../input/full-uppfpn-ecr269-c-bs48-e25',\n",
    "#     '../input/full-rsn269-scse-bs32-e25-3loss',\n",
    "    '../input/full-tb8-scse-bs32-e25-3loss',\n",
    "#     '../input/full-uppfpn-rrs420-lr-e25',\n",
    "#     '../input/full-uppfpn-rsn269-c-bs32-e25',\n",
    "#     '../input/full-uppfpn-tb8-lr-e25',\n",
    "    '../input/uppfpn-b7-c-bs48-e50',\n",
    "    '../input/uppfpn-tb8-c-bs32-e30',\n",
    "            ]\n",
    "\n",
    "import os, shutil\n",
    "from pprint import pprint\n",
    "os.makedirs(\"/root/.cache/torch/hub/checkpoints/\", exist_ok=True)\n",
    "# shutil.copy(f\"{CFG.bb_path[0]}\", \"/root/.cache/torch/hub/checkpoints/\")\n",
    "# shutil.copy(\"/root/.cache/torch/hub/checkpoints/tf_efficientnetv2_l_21ft1k-60127a9d.pth\", \"./\")"
   ]
  },
  {
   "cell_type": "markdown",
   "id": "c0b0ae5a",
   "metadata": {
    "papermill": {
     "duration": 0.059885,
     "end_time": "2022-07-14T11:55:46.472526",
     "exception": false,
     "start_time": "2022-07-14T11:55:46.412641",
     "status": "completed"
    },
    "tags": []
   },
   "source": [
    "# ❗ Reproducibility"
   ]
  },
  {
   "cell_type": "code",
   "execution_count": 4,
   "id": "d365db5a",
   "metadata": {
    "_kg_hide-input": true,
    "execution": {
     "iopub.execute_input": "2022-07-14T11:55:46.601502Z",
     "iopub.status.busy": "2022-07-14T11:55:46.594157Z",
     "iopub.status.idle": "2022-07-14T11:55:46.606338Z",
     "shell.execute_reply": "2022-07-14T11:55:46.606969Z",
     "shell.execute_reply.started": "2022-07-14T11:29:03.538176Z"
    },
    "papermill": {
     "duration": 0.074659,
     "end_time": "2022-07-14T11:55:46.607158",
     "exception": false,
     "start_time": "2022-07-14T11:55:46.532499",
     "status": "completed"
    },
    "tags": []
   },
   "outputs": [
    {
     "name": "stdout",
     "output_type": "stream",
     "text": [
      "> SEEDING DONE\n"
     ]
    }
   ],
   "source": [
    "def set_seed(seed = 42):\n",
    "    '''Sets the seed of the entire notebook so results are the same every time we run.\n",
    "    This is for REPRODUCIBILITY.'''\n",
    "    np.random.seed(seed)\n",
    "    random.seed(seed)\n",
    "    torch.manual_seed(seed)\n",
    "    torch.cuda.manual_seed(seed)\n",
    "    # When running on the CuDNN backend, two further options must be set\n",
    "    torch.backends.cudnn.deterministic = True\n",
    "    torch.backends.cudnn.benchmark = False\n",
    "    # Set a fixed value for the hash seed\n",
    "    os.environ['PYTHONHASHSEED'] = str(seed)\n",
    "    print('> SEEDING DONE')\n",
    "    \n",
    "set_seed(CFG.seed)"
   ]
  },
  {
   "cell_type": "markdown",
   "id": "1681d551",
   "metadata": {
    "papermill": {
     "duration": 0.060464,
     "end_time": "2022-07-14T11:55:46.726536",
     "exception": false,
     "start_time": "2022-07-14T11:55:46.666072",
     "status": "completed"
    },
    "tags": []
   },
   "source": [
    "# 🔨 Utility"
   ]
  },
  {
   "cell_type": "code",
   "execution_count": 5,
   "id": "7f112b14",
   "metadata": {
    "_kg_hide-input": true,
    "execution": {
     "iopub.execute_input": "2022-07-14T11:55:46.862661Z",
     "iopub.status.busy": "2022-07-14T11:55:46.861736Z",
     "iopub.status.idle": "2022-07-14T11:55:46.868649Z",
     "shell.execute_reply": "2022-07-14T11:55:46.869332Z",
     "shell.execute_reply.started": "2022-07-14T11:29:03.561454Z"
    },
    "papermill": {
     "duration": 0.080241,
     "end_time": "2022-07-14T11:55:46.869560",
     "exception": false,
     "start_time": "2022-07-14T11:55:46.789319",
     "status": "completed"
    },
    "tags": []
   },
   "outputs": [],
   "source": [
    "def get_metadata(row):\n",
    "    data = row['id'].split('_')\n",
    "    case = int(data[0].replace('case',''))\n",
    "    day = int(data[1].replace('day',''))\n",
    "    slice_ = int(data[-1])\n",
    "    row['case'] = case\n",
    "    row['day'] = day\n",
    "    row['slice'] = slice_\n",
    "    return row\n",
    "\n",
    "def path2info(row):\n",
    "    path = row['image_path']\n",
    "    data = path.split('/')\n",
    "    slice_ = int(data[-1].split('_')[1])\n",
    "    case = int(data[-3].split('_')[0].replace('case',''))\n",
    "    day = int(data[-3].split('_')[1].replace('day',''))\n",
    "    width = int(data[-1].split('_')[2])\n",
    "    height = int(data[-1].split('_')[3])\n",
    "    row['height'] = height\n",
    "    row['width'] = width\n",
    "    row['case'] = case\n",
    "    row['day'] = day\n",
    "    row['slice'] = slice_\n",
    "#     row['id'] = f'case{case}_day{day}_slice_{slice_}'\n",
    "    return row"
   ]
  },
  {
   "cell_type": "code",
   "execution_count": 6,
   "id": "87289f08",
   "metadata": {
    "_kg_hide-input": true,
    "execution": {
     "iopub.execute_input": "2022-07-14T11:55:47.027957Z",
     "iopub.status.busy": "2022-07-14T11:55:47.026966Z",
     "iopub.status.idle": "2022-07-14T11:55:47.037755Z",
     "shell.execute_reply": "2022-07-14T11:55:47.038952Z",
     "shell.execute_reply.started": "2022-07-14T11:29:03.572924Z"
    },
    "papermill": {
     "duration": 0.100997,
     "end_time": "2022-07-14T11:55:47.039180",
     "exception": false,
     "start_time": "2022-07-14T11:55:46.938183",
     "status": "completed"
    },
    "tags": []
   },
   "outputs": [],
   "source": [
    "def load_img(path, size=CFG.img_size):\n",
    "    img = cv2.imread(path, cv2.IMREAD_UNCHANGED)\n",
    "    shape0 = np.array(img.shape[:2])\n",
    "    resize = np.array(size)\n",
    "    if np.any(shape0!=resize):\n",
    "        diff = resize - shape0\n",
    "        pad0 = diff[0]\n",
    "        pad1 = diff[1]\n",
    "        pady = [pad0//2, pad0//2 + pad0%2]\n",
    "        padx = [pad1//2, pad1//2 + pad1%2]\n",
    "        img = np.pad(img, [pady, padx])\n",
    "        img = img.reshape((*resize))\n",
    "    return img, shape0\n",
    "\n",
    "def load_imgs(img_paths, size=CFG.img_size, scaling_factor = CFG.scaling_factor):\n",
    "    imgs = np.zeros((*size, len(img_paths)), dtype=np.float32)\n",
    "    for i, img_path in enumerate(img_paths):\n",
    "        if i==0:\n",
    "            img, shape0 = load_img(img_path, size=size)\n",
    "        else:\n",
    "            img, _ = load_img(img_path, size=size)\n",
    "        img = img.astype('float32') # original is uint16\n",
    "        img /= float(scaling_factor) # scale image to [0, 1]\n",
    "        imgs[..., i]+=img\n",
    "    return imgs, shape0\n",
    "\n",
    "def load_msk(path, size=CFG.img_size):\n",
    "    msk = np.load(path)\n",
    "    shape0 = np.array(msk.shape[:2])\n",
    "    resize = np.array(size)\n",
    "    if np.any(shape0!=resize):\n",
    "        diff = resize - shape0\n",
    "        pad0 = diff[0]\n",
    "        pad1 = diff[1]\n",
    "        pady = [pad0//2, pad0//2 + pad0%2]\n",
    "        padx = [pad1//2, pad1//2 + pad1%2]\n",
    "        msk = np.pad(msk, [pady, padx, [0,0]])\n",
    "        msk = msk.reshape((*resize, 3))\n",
    "    msk = msk.astype('float32')\n",
    "    msk/=255.0\n",
    "    return msk\n",
    "\n",
    "def show_img(img, mask=None):\n",
    "    clahe = cv2.createCLAHE(clipLimit=2.0, tileGridSize=(8,8))\n",
    "    img = clahe.apply(img)\n",
    "    plt.imshow(img, cmap='bone')\n",
    "    \n",
    "    if mask is not None:\n",
    "        # plt.imshow(np.ma.masked_where(mask!=1, mask), alpha=0.5, cmap='autumn')\n",
    "        plt.imshow(mask, alpha=0.5)\n",
    "        handles = [Rectangle((0,0),1,1, color=_c) for _c in [(0.667,0.0,0.0), (0.0,0.667,0.0), (0.0,0.0,0.667)]]\n",
    "        labels = [\"Large Bowel\", \"Small Bowel\", \"Stomach\"]\n",
    "        plt.legend(handles,labels)\n",
    "    plt.axis('off')"
   ]
  },
  {
   "cell_type": "code",
   "execution_count": 7,
   "id": "6b62ed37",
   "metadata": {
    "_kg_hide-input": true,
    "execution": {
     "iopub.execute_input": "2022-07-14T11:55:47.214286Z",
     "iopub.status.busy": "2022-07-14T11:55:47.211570Z",
     "iopub.status.idle": "2022-07-14T11:55:47.224444Z",
     "shell.execute_reply": "2022-07-14T11:55:47.226700Z",
     "shell.execute_reply.started": "2022-07-14T11:29:03.593916Z"
    },
    "papermill": {
     "duration": 0.121199,
     "end_time": "2022-07-14T11:55:47.227276",
     "exception": false,
     "start_time": "2022-07-14T11:55:47.106077",
     "status": "completed"
    },
    "tags": []
   },
   "outputs": [],
   "source": [
    "# ref: https://www.kaggle.com/paulorzp/run-length-encode-and-decode\n",
    "def rle_decode(mask_rle, shape):\n",
    "    '''\n",
    "    mask_rle: run-length as string formated (start length)\n",
    "    shape: (height,width) of array to return \n",
    "    Returns numpy array, 1 - mask, 0 - background\n",
    "\n",
    "    '''\n",
    "    s = mask_rle.split()\n",
    "    starts, lengths = [np.asarray(x, dtype=int) for x in (s[0:][::2], s[1:][::2])]\n",
    "    starts -= 1\n",
    "    ends = starts + lengths\n",
    "    img = np.zeros(shape[0]*shape[1], dtype=np.uint8)\n",
    "    for lo, hi in zip(starts, ends):\n",
    "        img[lo:hi] = 1\n",
    "    return img.reshape(shape)  # Needed to align to RLE direction\n",
    "\n",
    "\n",
    "# ref.: https://www.kaggle.com/stainsby/fast-tested-rle\n",
    "def rle_encode(img):\n",
    "    '''\n",
    "    img: numpy array, 1 - mask, 0 - background\n",
    "    Returns run length as string formated\n",
    "    '''\n",
    "    pixels = img.flatten()\n",
    "    pixels = np.concatenate([[0], pixels, [0]])\n",
    "    runs = np.where(pixels[1:] != pixels[:-1])[0] + 1\n",
    "    runs[1::2] -= runs[::2]\n",
    "    return ' '.join(str(x) for x in runs)"
   ]
  },
  {
   "cell_type": "markdown",
   "id": "8ec52afc",
   "metadata": {
    "papermill": {
     "duration": 0.067118,
     "end_time": "2022-07-14T11:55:47.375812",
     "exception": false,
     "start_time": "2022-07-14T11:55:47.308694",
     "status": "completed"
    },
    "tags": []
   },
   "source": [
    "## Test"
   ]
  },
  {
   "cell_type": "code",
   "execution_count": 8,
   "id": "39a6174f",
   "metadata": {
    "execution": {
     "iopub.execute_input": "2022-07-14T11:55:47.507728Z",
     "iopub.status.busy": "2022-07-14T11:55:47.506772Z",
     "iopub.status.idle": "2022-07-14T11:55:49.638814Z",
     "shell.execute_reply": "2022-07-14T11:55:49.639257Z",
     "shell.execute_reply.started": "2022-07-14T11:29:03.607938Z"
    },
    "papermill": {
     "duration": 2.202018,
     "end_time": "2022-07-14T11:55:49.639462",
     "exception": false,
     "start_time": "2022-07-14T11:55:47.437444",
     "status": "completed"
    },
    "tags": []
   },
   "outputs": [
    {
     "name": "stderr",
     "output_type": "stream",
     "text": [
      "100%|██████████| 1000/1000 [00:01<00:00, 652.66it/s]\n"
     ]
    }
   ],
   "source": [
    "sub_df = pd.read_csv('../input/uw-madison-gi-tract-image-segmentation/sample_submission.csv')\n",
    "if not len(sub_df):\n",
    "    debug = True\n",
    "    sub_df = pd.read_csv('../input/uw-madison-gi-tract-image-segmentation/train.csv')[:1000*3]\n",
    "    sub_df = sub_df.drop(columns=['class','segmentation']).drop_duplicates()\n",
    "else:\n",
    "    debug = False\n",
    "    sub_df = sub_df.drop(columns=['class','predicted']).drop_duplicates()\n",
    "sub_df = sub_df.progress_apply(get_metadata,axis=1)"
   ]
  },
  {
   "cell_type": "code",
   "execution_count": 9,
   "id": "84494dc5",
   "metadata": {
    "execution": {
     "iopub.execute_input": "2022-07-14T11:55:49.732514Z",
     "iopub.status.busy": "2022-07-14T11:55:49.731783Z",
     "iopub.status.idle": "2022-07-14T11:57:36.092220Z",
     "shell.execute_reply": "2022-07-14T11:57:36.091772Z",
     "shell.execute_reply.started": "2022-07-14T11:29:05.859991Z"
    },
    "papermill": {
     "duration": 106.409469,
     "end_time": "2022-07-14T11:57:36.092357",
     "exception": false,
     "start_time": "2022-07-14T11:55:49.682888",
     "status": "completed"
    },
    "tags": []
   },
   "outputs": [
    {
     "name": "stderr",
     "output_type": "stream",
     "text": [
      "100%|██████████| 38496/38496 [01:41<00:00, 379.52it/s]\n"
     ]
    },
    {
     "data": {
      "text/html": [
       "<div>\n",
       "<style scoped>\n",
       "    .dataframe tbody tr th:only-of-type {\n",
       "        vertical-align: middle;\n",
       "    }\n",
       "\n",
       "    .dataframe tbody tr th {\n",
       "        vertical-align: top;\n",
       "    }\n",
       "\n",
       "    .dataframe thead th {\n",
       "        text-align: right;\n",
       "    }\n",
       "</style>\n",
       "<table border=\"1\" class=\"dataframe\">\n",
       "  <thead>\n",
       "    <tr style=\"text-align: right;\">\n",
       "      <th></th>\n",
       "      <th>image_path</th>\n",
       "      <th>height</th>\n",
       "      <th>width</th>\n",
       "      <th>case</th>\n",
       "      <th>day</th>\n",
       "      <th>slice</th>\n",
       "    </tr>\n",
       "  </thead>\n",
       "  <tbody>\n",
       "    <tr>\n",
       "      <th>0</th>\n",
       "      <td>/kaggle/input/uw-madison-gi-tract-image-segmen...</td>\n",
       "      <td>266</td>\n",
       "      <td>266</td>\n",
       "      <td>101</td>\n",
       "      <td>20</td>\n",
       "      <td>1</td>\n",
       "    </tr>\n",
       "    <tr>\n",
       "      <th>1</th>\n",
       "      <td>/kaggle/input/uw-madison-gi-tract-image-segmen...</td>\n",
       "      <td>266</td>\n",
       "      <td>266</td>\n",
       "      <td>101</td>\n",
       "      <td>20</td>\n",
       "      <td>2</td>\n",
       "    </tr>\n",
       "    <tr>\n",
       "      <th>2</th>\n",
       "      <td>/kaggle/input/uw-madison-gi-tract-image-segmen...</td>\n",
       "      <td>266</td>\n",
       "      <td>266</td>\n",
       "      <td>101</td>\n",
       "      <td>20</td>\n",
       "      <td>3</td>\n",
       "    </tr>\n",
       "    <tr>\n",
       "      <th>3</th>\n",
       "      <td>/kaggle/input/uw-madison-gi-tract-image-segmen...</td>\n",
       "      <td>266</td>\n",
       "      <td>266</td>\n",
       "      <td>101</td>\n",
       "      <td>20</td>\n",
       "      <td>4</td>\n",
       "    </tr>\n",
       "    <tr>\n",
       "      <th>4</th>\n",
       "      <td>/kaggle/input/uw-madison-gi-tract-image-segmen...</td>\n",
       "      <td>266</td>\n",
       "      <td>266</td>\n",
       "      <td>101</td>\n",
       "      <td>20</td>\n",
       "      <td>5</td>\n",
       "    </tr>\n",
       "  </tbody>\n",
       "</table>\n",
       "</div>"
      ],
      "text/plain": [
       "                                          image_path  height  width  case  \\\n",
       "0  /kaggle/input/uw-madison-gi-tract-image-segmen...     266    266   101   \n",
       "1  /kaggle/input/uw-madison-gi-tract-image-segmen...     266    266   101   \n",
       "2  /kaggle/input/uw-madison-gi-tract-image-segmen...     266    266   101   \n",
       "3  /kaggle/input/uw-madison-gi-tract-image-segmen...     266    266   101   \n",
       "4  /kaggle/input/uw-madison-gi-tract-image-segmen...     266    266   101   \n",
       "\n",
       "   day  slice  \n",
       "0   20      1  \n",
       "1   20      2  \n",
       "2   20      3  \n",
       "3   20      4  \n",
       "4   20      5  "
      ]
     },
     "execution_count": 9,
     "metadata": {},
     "output_type": "execute_result"
    }
   ],
   "source": [
    "if debug:\n",
    "    paths = glob(f'/kaggle/input/uw-madison-gi-tract-image-segmentation/train/**/*png',recursive=True)\n",
    "    fold_val = '/kaggle/input/uw-madison-gi-tract-image-segmentation/train/'\n",
    "    paths = sorted(paths)\n",
    "else:\n",
    "    paths = glob(f'/kaggle/input/uw-madison-gi-tract-image-segmentation/test/**/*png',recursive=True)\n",
    "    fold_val = '/kaggle/input/uw-madison-gi-tract-image-segmentation/test/'\n",
    "    paths = sorted(paths)\n",
    "path_df = pd.DataFrame(paths, columns=['image_path'])\n",
    "path_df = path_df.progress_apply(path2info, axis=1)\n",
    "path_df.head()"
   ]
  },
  {
   "cell_type": "code",
   "execution_count": 10,
   "id": "705e3e74",
   "metadata": {
    "execution": {
     "iopub.execute_input": "2022-07-14T11:57:36.697851Z",
     "iopub.status.busy": "2022-07-14T11:57:36.696921Z",
     "iopub.status.idle": "2022-07-14T11:57:36.698662Z",
     "shell.execute_reply": "2022-07-14T11:57:36.699575Z",
     "shell.execute_reply.started": "2022-07-14T11:30:46.675505Z"
    },
    "papermill": {
     "duration": 0.307379,
     "end_time": "2022-07-14T11:57:36.699729",
     "exception": false,
     "start_time": "2022-07-14T11:57:36.392350",
     "status": "completed"
    },
    "tags": []
   },
   "outputs": [],
   "source": [
    "im_path_ls = list(paths)\n",
    "len(im_path_ls)\n",
    "im_path_ls = sorted(im_path_ls)"
   ]
  },
  {
   "cell_type": "markdown",
   "id": "b72c7ace",
   "metadata": {
    "papermill": {
     "duration": 0.444402,
     "end_time": "2022-07-14T11:57:37.445780",
     "exception": false,
     "start_time": "2022-07-14T11:57:37.001378",
     "status": "completed"
    },
    "tags": []
   },
   "source": [
    "## Intensity DF"
   ]
  },
  {
   "cell_type": "code",
   "execution_count": 11,
   "id": "6b4fd2da",
   "metadata": {
    "execution": {
     "iopub.execute_input": "2022-07-14T11:57:38.209782Z",
     "iopub.status.busy": "2022-07-14T11:57:38.208767Z",
     "iopub.status.idle": "2022-07-14T12:00:37.664584Z",
     "shell.execute_reply": "2022-07-14T12:00:37.663955Z",
     "shell.execute_reply.started": "2022-07-14T11:30:46.683384Z"
    },
    "papermill": {
     "duration": 179.78973,
     "end_time": "2022-07-14T12:00:37.664743",
     "exception": false,
     "start_time": "2022-07-14T11:57:37.875013",
     "status": "completed"
    },
    "tags": []
   },
   "outputs": [
    {
     "name": "stderr",
     "output_type": "stream",
     "text": [
      "100%|██████████| 38496/38496 [02:59<00:00, 214.56it/s]\n"
     ]
    }
   ],
   "source": [
    "def assess_im(path):\n",
    "    img = cv2.imread(str(path), cv2.IMREAD_UNCHANGED)\n",
    "    img = img.astype('float32') # original is uint16\n",
    "    return img.min(), img.max(), Path(path).parent.parent.stem\n",
    "\n",
    "im_dims = Parallel(n_jobs=-1, backend='threading')(delayed(assess_im)(path_)\\\n",
    "                                                   for path_ in tqdm(im_path_ls, total=len(im_path_ls)))"
   ]
  },
  {
   "cell_type": "code",
   "execution_count": 12,
   "id": "0076a597",
   "metadata": {
    "execution": {
     "iopub.execute_input": "2022-07-14T12:00:39.166708Z",
     "iopub.status.busy": "2022-07-14T12:00:39.161516Z",
     "iopub.status.idle": "2022-07-14T12:02:31.163656Z",
     "shell.execute_reply": "2022-07-14T12:02:31.164156Z",
     "shell.execute_reply.started": "2022-07-14T11:33:35.894542Z"
    },
    "papermill": {
     "duration": 112.750064,
     "end_time": "2022-07-14T12:02:31.164349",
     "exception": false,
     "start_time": "2022-07-14T12:00:38.414285",
     "status": "completed"
    },
    "tags": []
   },
   "outputs": [
    {
     "data": {
      "text/html": [
       "<div>\n",
       "<style scoped>\n",
       "    .dataframe tbody tr th:only-of-type {\n",
       "        vertical-align: middle;\n",
       "    }\n",
       "\n",
       "    .dataframe tbody tr th {\n",
       "        vertical-align: top;\n",
       "    }\n",
       "\n",
       "    .dataframe thead th {\n",
       "        text-align: right;\n",
       "    }\n",
       "</style>\n",
       "<table border=\"1\" class=\"dataframe\">\n",
       "  <thead>\n",
       "    <tr style=\"text-align: right;\">\n",
       "      <th></th>\n",
       "      <th>name</th>\n",
       "      <th>min_min</th>\n",
       "      <th>min_max</th>\n",
       "      <th>max_min</th>\n",
       "      <th>max_max</th>\n",
       "    </tr>\n",
       "  </thead>\n",
       "  <tbody>\n",
       "    <tr>\n",
       "      <th>0</th>\n",
       "      <td>case15_day0</td>\n",
       "      <td>0</td>\n",
       "      <td>0</td>\n",
       "      <td>135</td>\n",
       "      <td>659</td>\n",
       "    </tr>\n",
       "    <tr>\n",
       "      <th>1</th>\n",
       "      <td>case2_day5</td>\n",
       "      <td>0</td>\n",
       "      <td>0</td>\n",
       "      <td>119</td>\n",
       "      <td>697</td>\n",
       "    </tr>\n",
       "    <tr>\n",
       "      <th>2</th>\n",
       "      <td>case2_day4</td>\n",
       "      <td>0</td>\n",
       "      <td>0</td>\n",
       "      <td>135</td>\n",
       "      <td>702</td>\n",
       "    </tr>\n",
       "    <tr>\n",
       "      <th>3</th>\n",
       "      <td>case15_day20</td>\n",
       "      <td>0</td>\n",
       "      <td>0</td>\n",
       "      <td>143</td>\n",
       "      <td>723</td>\n",
       "    </tr>\n",
       "    <tr>\n",
       "      <th>4</th>\n",
       "      <td>case2_day2</td>\n",
       "      <td>0</td>\n",
       "      <td>0</td>\n",
       "      <td>102</td>\n",
       "      <td>760</td>\n",
       "    </tr>\n",
       "  </tbody>\n",
       "</table>\n",
       "</div>"
      ],
      "text/plain": [
       "           name  min_min  min_max  max_min  max_max\n",
       "0   case15_day0        0        0      135      659\n",
       "1    case2_day5        0        0      119      697\n",
       "2    case2_day4        0        0      135      702\n",
       "3  case15_day20        0        0      143      723\n",
       "4    case2_day2        0        0      102      760"
      ]
     },
     "execution_count": 12,
     "metadata": {},
     "output_type": "execute_result"
    }
   ],
   "source": [
    "intensity_tmp_df = pd.DataFrame(columns=['min_value', 'max_value', 'name'])\n",
    "for item in im_dims:\n",
    "    intensity_tmp_df.loc[len(intensity_tmp_df)] = item\n",
    "intensity_tmp_df['min_min'] = -1\n",
    "intensity_tmp_df['min_max'] = -1\n",
    "intensity_tmp_df['max_min'] = -1\n",
    "intensity_tmp_df['max_max'] = -1\n",
    "for case in intensity_tmp_df.name.unique():\n",
    "    intensity_tmp_df.loc[intensity_tmp_df.name == case, 'min_min'] = float(intensity_tmp_df[intensity_tmp_df.name == case].min_value.min())\n",
    "    intensity_tmp_df.loc[intensity_tmp_df.name == case, 'min_max'] = float(intensity_tmp_df[intensity_tmp_df.name == case].min_value.max())\n",
    "    intensity_tmp_df.loc[intensity_tmp_df.name == case, 'max_min'] = float(intensity_tmp_df[intensity_tmp_df.name == case].max_value.min())\n",
    "    intensity_tmp_df.loc[intensity_tmp_df.name == case, 'max_max'] = float(intensity_tmp_df[intensity_tmp_df.name == case].max_value.max())\n",
    "intensity_df = intensity_tmp_df.copy()\n",
    "intensity_df = intensity_df.drop(columns=['min_value', 'max_value'])\n",
    "intensity_df = intensity_df.sort_values(by ='max_max')\n",
    "intensity_df = intensity_df.drop_duplicates()#.reset_index()\n",
    "intensity_df = intensity_df.reset_index(drop=True)\n",
    "intensity_df.head()"
   ]
  },
  {
   "cell_type": "code",
   "execution_count": 13,
   "id": "62b71f35",
   "metadata": {
    "execution": {
     "iopub.execute_input": "2022-07-14T12:02:32.780560Z",
     "iopub.status.busy": "2022-07-14T12:02:32.776411Z",
     "iopub.status.idle": "2022-07-14T12:02:32.783493Z",
     "shell.execute_reply": "2022-07-14T12:02:32.783999Z",
     "shell.execute_reply.started": "2022-07-14T11:35:19.214780Z"
    },
    "papermill": {
     "duration": 0.841645,
     "end_time": "2022-07-14T12:02:32.784170",
     "exception": false,
     "start_time": "2022-07-14T12:02:31.942525",
     "status": "completed"
    },
    "tags": []
   },
   "outputs": [
    {
     "data": {
      "text/html": [
       "<div>\n",
       "<style scoped>\n",
       "    .dataframe tbody tr th:only-of-type {\n",
       "        vertical-align: middle;\n",
       "    }\n",
       "\n",
       "    .dataframe tbody tr th {\n",
       "        vertical-align: top;\n",
       "    }\n",
       "\n",
       "    .dataframe thead th {\n",
       "        text-align: right;\n",
       "    }\n",
       "</style>\n",
       "<table border=\"1\" class=\"dataframe\">\n",
       "  <thead>\n",
       "    <tr style=\"text-align: right;\">\n",
       "      <th></th>\n",
       "      <th>name</th>\n",
       "      <th>min_min</th>\n",
       "      <th>min_max</th>\n",
       "      <th>max_min</th>\n",
       "      <th>max_max</th>\n",
       "      <th>case</th>\n",
       "      <th>day</th>\n",
       "    </tr>\n",
       "  </thead>\n",
       "  <tbody>\n",
       "    <tr>\n",
       "      <th>0</th>\n",
       "      <td>case15_day0</td>\n",
       "      <td>0</td>\n",
       "      <td>0</td>\n",
       "      <td>135</td>\n",
       "      <td>659</td>\n",
       "      <td>15</td>\n",
       "      <td>0</td>\n",
       "    </tr>\n",
       "    <tr>\n",
       "      <th>1</th>\n",
       "      <td>case2_day5</td>\n",
       "      <td>0</td>\n",
       "      <td>0</td>\n",
       "      <td>119</td>\n",
       "      <td>697</td>\n",
       "      <td>2</td>\n",
       "      <td>5</td>\n",
       "    </tr>\n",
       "    <tr>\n",
       "      <th>2</th>\n",
       "      <td>case2_day4</td>\n",
       "      <td>0</td>\n",
       "      <td>0</td>\n",
       "      <td>135</td>\n",
       "      <td>702</td>\n",
       "      <td>2</td>\n",
       "      <td>4</td>\n",
       "    </tr>\n",
       "    <tr>\n",
       "      <th>3</th>\n",
       "      <td>case15_day20</td>\n",
       "      <td>0</td>\n",
       "      <td>0</td>\n",
       "      <td>143</td>\n",
       "      <td>723</td>\n",
       "      <td>15</td>\n",
       "      <td>20</td>\n",
       "    </tr>\n",
       "    <tr>\n",
       "      <th>4</th>\n",
       "      <td>case2_day2</td>\n",
       "      <td>0</td>\n",
       "      <td>0</td>\n",
       "      <td>102</td>\n",
       "      <td>760</td>\n",
       "      <td>2</td>\n",
       "      <td>2</td>\n",
       "    </tr>\n",
       "  </tbody>\n",
       "</table>\n",
       "</div>"
      ],
      "text/plain": [
       "           name  min_min  min_max  max_min  max_max  case  day\n",
       "0   case15_day0        0        0      135      659    15    0\n",
       "1    case2_day5        0        0      119      697     2    5\n",
       "2    case2_day4        0        0      135      702     2    4\n",
       "3  case15_day20        0        0      143      723    15   20\n",
       "4    case2_day2        0        0      102      760     2    2"
      ]
     },
     "execution_count": 13,
     "metadata": {},
     "output_type": "execute_result"
    }
   ],
   "source": [
    "intensity_df[['case', 'day']] = intensity_df['name'].str.split('_', 1, expand=True)\n",
    "intensity_df['case'] = intensity_df.case.str.replace('case','').astype(int)\n",
    "intensity_df['day'] = intensity_df.day.str.replace('day','').astype(int)\n",
    "intensity_df.head()"
   ]
  },
  {
   "cell_type": "markdown",
   "id": "f5e1e848",
   "metadata": {
    "papermill": {
     "duration": 0.748258,
     "end_time": "2022-07-14T12:02:34.331207",
     "exception": false,
     "start_time": "2022-07-14T12:02:33.582949",
     "status": "completed"
    },
    "tags": []
   },
   "source": [
    "## Cropping"
   ]
  },
  {
   "cell_type": "code",
   "execution_count": 14,
   "id": "3c4d4860",
   "metadata": {
    "execution": {
     "iopub.execute_input": "2022-07-14T12:02:35.897728Z",
     "iopub.status.busy": "2022-07-14T12:02:35.861677Z",
     "iopub.status.idle": "2022-07-14T12:02:35.970996Z",
     "shell.execute_reply": "2022-07-14T12:02:35.971810Z",
     "shell.execute_reply.started": "2022-07-14T11:35:19.244639Z"
    },
    "papermill": {
     "duration": 0.882616,
     "end_time": "2022-07-14T12:02:35.972013",
     "exception": false,
     "start_time": "2022-07-14T12:02:35.089397",
     "status": "completed"
    },
    "tags": []
   },
   "outputs": [],
   "source": [
    "name_ls = [x.replace(fold_val,'').split('/')[1] for x in im_path_ls if re.match('case[0-9]+_day[0-9]+',x.replace(fold_val,'').split('/')[1])]\n",
    "assert len(name_ls) == len(im_path_ls)"
   ]
  },
  {
   "cell_type": "code",
   "execution_count": 15,
   "id": "da11307e",
   "metadata": {
    "execution": {
     "iopub.execute_input": "2022-07-14T12:02:37.542940Z",
     "iopub.status.busy": "2022-07-14T12:02:37.542018Z",
     "iopub.status.idle": "2022-07-14T12:02:37.565508Z",
     "shell.execute_reply": "2022-07-14T12:02:37.566047Z",
     "shell.execute_reply.started": "2022-07-14T11:35:19.408833Z"
    },
    "papermill": {
     "duration": 0.836909,
     "end_time": "2022-07-14T12:02:37.566221",
     "exception": false,
     "start_time": "2022-07-14T12:02:36.729312",
     "status": "completed"
    },
    "tags": []
   },
   "outputs": [
    {
     "data": {
      "text/html": [
       "<div>\n",
       "<style scoped>\n",
       "    .dataframe tbody tr th:only-of-type {\n",
       "        vertical-align: middle;\n",
       "    }\n",
       "\n",
       "    .dataframe tbody tr th {\n",
       "        vertical-align: top;\n",
       "    }\n",
       "\n",
       "    .dataframe thead th {\n",
       "        text-align: right;\n",
       "    }\n",
       "</style>\n",
       "<table border=\"1\" class=\"dataframe\">\n",
       "  <thead>\n",
       "    <tr style=\"text-align: right;\">\n",
       "      <th></th>\n",
       "      <th>id</th>\n",
       "      <th>case</th>\n",
       "      <th>day</th>\n",
       "      <th>slice</th>\n",
       "      <th>image_path</th>\n",
       "      <th>height</th>\n",
       "      <th>width</th>\n",
       "    </tr>\n",
       "  </thead>\n",
       "  <tbody>\n",
       "    <tr>\n",
       "      <th>0</th>\n",
       "      <td>case123_day20_slice_0001</td>\n",
       "      <td>123</td>\n",
       "      <td>20</td>\n",
       "      <td>1</td>\n",
       "      <td>/kaggle/input/uw-madison-gi-tract-image-segmen...</td>\n",
       "      <td>266</td>\n",
       "      <td>266</td>\n",
       "    </tr>\n",
       "    <tr>\n",
       "      <th>1</th>\n",
       "      <td>case123_day20_slice_0002</td>\n",
       "      <td>123</td>\n",
       "      <td>20</td>\n",
       "      <td>2</td>\n",
       "      <td>/kaggle/input/uw-madison-gi-tract-image-segmen...</td>\n",
       "      <td>266</td>\n",
       "      <td>266</td>\n",
       "    </tr>\n",
       "    <tr>\n",
       "      <th>2</th>\n",
       "      <td>case123_day20_slice_0003</td>\n",
       "      <td>123</td>\n",
       "      <td>20</td>\n",
       "      <td>3</td>\n",
       "      <td>/kaggle/input/uw-madison-gi-tract-image-segmen...</td>\n",
       "      <td>266</td>\n",
       "      <td>266</td>\n",
       "    </tr>\n",
       "    <tr>\n",
       "      <th>3</th>\n",
       "      <td>case123_day20_slice_0004</td>\n",
       "      <td>123</td>\n",
       "      <td>20</td>\n",
       "      <td>4</td>\n",
       "      <td>/kaggle/input/uw-madison-gi-tract-image-segmen...</td>\n",
       "      <td>266</td>\n",
       "      <td>266</td>\n",
       "    </tr>\n",
       "    <tr>\n",
       "      <th>4</th>\n",
       "      <td>case123_day20_slice_0005</td>\n",
       "      <td>123</td>\n",
       "      <td>20</td>\n",
       "      <td>5</td>\n",
       "      <td>/kaggle/input/uw-madison-gi-tract-image-segmen...</td>\n",
       "      <td>266</td>\n",
       "      <td>266</td>\n",
       "    </tr>\n",
       "  </tbody>\n",
       "</table>\n",
       "</div>"
      ],
      "text/plain": [
       "                         id  case  day  slice  \\\n",
       "0  case123_day20_slice_0001   123   20      1   \n",
       "1  case123_day20_slice_0002   123   20      2   \n",
       "2  case123_day20_slice_0003   123   20      3   \n",
       "3  case123_day20_slice_0004   123   20      4   \n",
       "4  case123_day20_slice_0005   123   20      5   \n",
       "\n",
       "                                          image_path  height  width  \n",
       "0  /kaggle/input/uw-madison-gi-tract-image-segmen...     266    266  \n",
       "1  /kaggle/input/uw-madison-gi-tract-image-segmen...     266    266  \n",
       "2  /kaggle/input/uw-madison-gi-tract-image-segmen...     266    266  \n",
       "3  /kaggle/input/uw-madison-gi-tract-image-segmen...     266    266  \n",
       "4  /kaggle/input/uw-madison-gi-tract-image-segmen...     266    266  "
      ]
     },
     "execution_count": 15,
     "metadata": {},
     "output_type": "execute_result"
    }
   ],
   "source": [
    "test_df = sub_df.merge(path_df, on=['case','day','slice'], how='left')\n",
    "test_df.head()"
   ]
  },
  {
   "cell_type": "code",
   "execution_count": 16,
   "id": "ce35f1c6",
   "metadata": {
    "execution": {
     "iopub.execute_input": "2022-07-14T12:02:39.434478Z",
     "iopub.status.busy": "2022-07-14T12:02:39.418549Z",
     "iopub.status.idle": "2022-07-14T12:02:39.978091Z",
     "shell.execute_reply": "2022-07-14T12:02:39.977203Z",
     "shell.execute_reply.started": "2022-07-14T11:35:19.438706Z"
    },
    "papermill": {
     "duration": 1.376013,
     "end_time": "2022-07-14T12:02:39.978224",
     "exception": false,
     "start_time": "2022-07-14T12:02:38.602211",
     "status": "completed"
    },
    "tags": []
   },
   "outputs": [
    {
     "data": {
      "text/html": [
       "<div>\n",
       "<style scoped>\n",
       "    .dataframe tbody tr th:only-of-type {\n",
       "        vertical-align: middle;\n",
       "    }\n",
       "\n",
       "    .dataframe tbody tr th {\n",
       "        vertical-align: top;\n",
       "    }\n",
       "\n",
       "    .dataframe thead th {\n",
       "        text-align: right;\n",
       "    }\n",
       "</style>\n",
       "<table border=\"1\" class=\"dataframe\">\n",
       "  <thead>\n",
       "    <tr style=\"text-align: right;\">\n",
       "      <th></th>\n",
       "      <th>index</th>\n",
       "      <th>req_slice</th>\n",
       "      <th>slice_name</th>\n",
       "      <th>nslice_name</th>\n",
       "      <th>name</th>\n",
       "    </tr>\n",
       "  </thead>\n",
       "  <tbody>\n",
       "    <tr>\n",
       "      <th>0</th>\n",
       "      <td>case101_day20</td>\n",
       "      <td>slice_0072</td>\n",
       "      <td>/kaggle/input/uw-madison-gi-tract-image-segmen...</td>\n",
       "      <td>/kaggle/input/uw-madison-gi-tract-image-segmen...</td>\n",
       "      <td>case101_day20</td>\n",
       "    </tr>\n",
       "    <tr>\n",
       "      <th>1</th>\n",
       "      <td>case101_day22</td>\n",
       "      <td>slice_0072</td>\n",
       "      <td>/kaggle/input/uw-madison-gi-tract-image-segmen...</td>\n",
       "      <td>/kaggle/input/uw-madison-gi-tract-image-segmen...</td>\n",
       "      <td>case101_day22</td>\n",
       "    </tr>\n",
       "    <tr>\n",
       "      <th>2</th>\n",
       "      <td>case101_day26</td>\n",
       "      <td>slice_0072</td>\n",
       "      <td>/kaggle/input/uw-madison-gi-tract-image-segmen...</td>\n",
       "      <td>/kaggle/input/uw-madison-gi-tract-image-segmen...</td>\n",
       "      <td>case101_day26</td>\n",
       "    </tr>\n",
       "    <tr>\n",
       "      <th>3</th>\n",
       "      <td>case101_day32</td>\n",
       "      <td>slice_0072</td>\n",
       "      <td>/kaggle/input/uw-madison-gi-tract-image-segmen...</td>\n",
       "      <td>/kaggle/input/uw-madison-gi-tract-image-segmen...</td>\n",
       "      <td>case101_day32</td>\n",
       "    </tr>\n",
       "    <tr>\n",
       "      <th>4</th>\n",
       "      <td>case102_day0</td>\n",
       "      <td>slice_0072</td>\n",
       "      <td>/kaggle/input/uw-madison-gi-tract-image-segmen...</td>\n",
       "      <td>/kaggle/input/uw-madison-gi-tract-image-segmen...</td>\n",
       "      <td>case102_day0</td>\n",
       "    </tr>\n",
       "  </tbody>\n",
       "</table>\n",
       "</div>"
      ],
      "text/plain": [
       "           index   req_slice  \\\n",
       "0  case101_day20  slice_0072   \n",
       "1  case101_day22  slice_0072   \n",
       "2  case101_day26  slice_0072   \n",
       "3  case101_day32  slice_0072   \n",
       "4   case102_day0  slice_0072   \n",
       "\n",
       "                                          slice_name  \\\n",
       "0  /kaggle/input/uw-madison-gi-tract-image-segmen...   \n",
       "1  /kaggle/input/uw-madison-gi-tract-image-segmen...   \n",
       "2  /kaggle/input/uw-madison-gi-tract-image-segmen...   \n",
       "3  /kaggle/input/uw-madison-gi-tract-image-segmen...   \n",
       "4  /kaggle/input/uw-madison-gi-tract-image-segmen...   \n",
       "\n",
       "                                         nslice_name           name  \n",
       "0  /kaggle/input/uw-madison-gi-tract-image-segmen...  case101_day20  \n",
       "1  /kaggle/input/uw-madison-gi-tract-image-segmen...  case101_day22  \n",
       "2  /kaggle/input/uw-madison-gi-tract-image-segmen...  case101_day26  \n",
       "3  /kaggle/input/uw-madison-gi-tract-image-segmen...  case101_day32  \n",
       "4  /kaggle/input/uw-madison-gi-tract-image-segmen...   case102_day0  "
      ]
     },
     "execution_count": 16,
     "metadata": {},
     "output_type": "execute_result"
    }
   ],
   "source": [
    "slice_df = pd.DataFrame.from_dict(dict(Counter(name_ls)), orient='index', columns=['req_slice']).reset_index()\n",
    "slice_df['req_slice'] = 'slice_00' + (slice_df['req_slice']/ 2).astype(int).astype(str)\n",
    "slice_df['slice_name'] = slice_df['index'].apply(lambda x: im_path_ls[name_ls.index(x)])\n",
    "len([x for x in  list(slice_df['slice_name']) if re.match('slice_0001' ,Path(x).stem)]) == slice_df.shape[0]\n",
    "slice_df['nslice_name'] = slice_df.apply(lambda x: x['slice_name'].replace('slice_0001', x.req_slice), axis =1)\n",
    "assert slice_df.shape[0] == len([x for x in list(slice_df['nslice_name']) if Path(x).exists()])\n",
    "\n",
    "slice_df['name'] = slice_df['index']\n",
    "slice_df.drop(columns=['index'])\n",
    "slice_df.head()"
   ]
  },
  {
   "cell_type": "code",
   "execution_count": 17,
   "id": "28276446",
   "metadata": {
    "execution": {
     "iopub.execute_input": "2022-07-14T12:02:41.502115Z",
     "iopub.status.busy": "2022-07-14T12:02:41.501234Z",
     "iopub.status.idle": "2022-07-14T12:02:41.515742Z",
     "shell.execute_reply": "2022-07-14T12:02:41.516379Z",
     "shell.execute_reply.started": "2022-07-14T11:35:20.056716Z"
    },
    "papermill": {
     "duration": 0.794595,
     "end_time": "2022-07-14T12:02:41.516542",
     "exception": false,
     "start_time": "2022-07-14T12:02:40.721947",
     "status": "completed"
    },
    "tags": []
   },
   "outputs": [
    {
     "data": {
      "text/html": [
       "<div>\n",
       "<style scoped>\n",
       "    .dataframe tbody tr th:only-of-type {\n",
       "        vertical-align: middle;\n",
       "    }\n",
       "\n",
       "    .dataframe tbody tr th {\n",
       "        vertical-align: top;\n",
       "    }\n",
       "\n",
       "    .dataframe thead th {\n",
       "        text-align: right;\n",
       "    }\n",
       "</style>\n",
       "<table border=\"1\" class=\"dataframe\">\n",
       "  <thead>\n",
       "    <tr style=\"text-align: right;\">\n",
       "      <th></th>\n",
       "      <th>index</th>\n",
       "      <th>req_slice</th>\n",
       "      <th>slice_name</th>\n",
       "      <th>nslice_name</th>\n",
       "      <th>name</th>\n",
       "      <th>min_min</th>\n",
       "      <th>min_max</th>\n",
       "      <th>max_min</th>\n",
       "      <th>max_max</th>\n",
       "      <th>case</th>\n",
       "      <th>day</th>\n",
       "    </tr>\n",
       "  </thead>\n",
       "  <tbody>\n",
       "    <tr>\n",
       "      <th>0</th>\n",
       "      <td>case101_day20</td>\n",
       "      <td>slice_0072</td>\n",
       "      <td>/kaggle/input/uw-madison-gi-tract-image-segmen...</td>\n",
       "      <td>/kaggle/input/uw-madison-gi-tract-image-segmen...</td>\n",
       "      <td>case101_day20</td>\n",
       "      <td>0</td>\n",
       "      <td>0</td>\n",
       "      <td>115</td>\n",
       "      <td>1909</td>\n",
       "      <td>101</td>\n",
       "      <td>20</td>\n",
       "    </tr>\n",
       "    <tr>\n",
       "      <th>1</th>\n",
       "      <td>case101_day22</td>\n",
       "      <td>slice_0072</td>\n",
       "      <td>/kaggle/input/uw-madison-gi-tract-image-segmen...</td>\n",
       "      <td>/kaggle/input/uw-madison-gi-tract-image-segmen...</td>\n",
       "      <td>case101_day22</td>\n",
       "      <td>0</td>\n",
       "      <td>0</td>\n",
       "      <td>202</td>\n",
       "      <td>1954</td>\n",
       "      <td>101</td>\n",
       "      <td>22</td>\n",
       "    </tr>\n",
       "    <tr>\n",
       "      <th>2</th>\n",
       "      <td>case101_day26</td>\n",
       "      <td>slice_0072</td>\n",
       "      <td>/kaggle/input/uw-madison-gi-tract-image-segmen...</td>\n",
       "      <td>/kaggle/input/uw-madison-gi-tract-image-segmen...</td>\n",
       "      <td>case101_day26</td>\n",
       "      <td>0</td>\n",
       "      <td>0</td>\n",
       "      <td>2055</td>\n",
       "      <td>15495</td>\n",
       "      <td>101</td>\n",
       "      <td>26</td>\n",
       "    </tr>\n",
       "    <tr>\n",
       "      <th>3</th>\n",
       "      <td>case101_day32</td>\n",
       "      <td>slice_0072</td>\n",
       "      <td>/kaggle/input/uw-madison-gi-tract-image-segmen...</td>\n",
       "      <td>/kaggle/input/uw-madison-gi-tract-image-segmen...</td>\n",
       "      <td>case101_day32</td>\n",
       "      <td>0</td>\n",
       "      <td>0</td>\n",
       "      <td>238</td>\n",
       "      <td>1315</td>\n",
       "      <td>101</td>\n",
       "      <td>32</td>\n",
       "    </tr>\n",
       "    <tr>\n",
       "      <th>4</th>\n",
       "      <td>case102_day0</td>\n",
       "      <td>slice_0072</td>\n",
       "      <td>/kaggle/input/uw-madison-gi-tract-image-segmen...</td>\n",
       "      <td>/kaggle/input/uw-madison-gi-tract-image-segmen...</td>\n",
       "      <td>case102_day0</td>\n",
       "      <td>0</td>\n",
       "      <td>0</td>\n",
       "      <td>178</td>\n",
       "      <td>3205</td>\n",
       "      <td>102</td>\n",
       "      <td>0</td>\n",
       "    </tr>\n",
       "    <tr>\n",
       "      <th>...</th>\n",
       "      <td>...</td>\n",
       "      <td>...</td>\n",
       "      <td>...</td>\n",
       "      <td>...</td>\n",
       "      <td>...</td>\n",
       "      <td>...</td>\n",
       "      <td>...</td>\n",
       "      <td>...</td>\n",
       "      <td>...</td>\n",
       "      <td>...</td>\n",
       "      <td>...</td>\n",
       "    </tr>\n",
       "    <tr>\n",
       "      <th>269</th>\n",
       "      <td>case90_day0</td>\n",
       "      <td>slice_0072</td>\n",
       "      <td>/kaggle/input/uw-madison-gi-tract-image-segmen...</td>\n",
       "      <td>/kaggle/input/uw-madison-gi-tract-image-segmen...</td>\n",
       "      <td>case90_day0</td>\n",
       "      <td>0</td>\n",
       "      <td>0</td>\n",
       "      <td>219</td>\n",
       "      <td>1141</td>\n",
       "      <td>90</td>\n",
       "      <td>0</td>\n",
       "    </tr>\n",
       "    <tr>\n",
       "      <th>270</th>\n",
       "      <td>case90_day22</td>\n",
       "      <td>slice_0072</td>\n",
       "      <td>/kaggle/input/uw-madison-gi-tract-image-segmen...</td>\n",
       "      <td>/kaggle/input/uw-madison-gi-tract-image-segmen...</td>\n",
       "      <td>case90_day22</td>\n",
       "      <td>0</td>\n",
       "      <td>0</td>\n",
       "      <td>159</td>\n",
       "      <td>2424</td>\n",
       "      <td>90</td>\n",
       "      <td>22</td>\n",
       "    </tr>\n",
       "    <tr>\n",
       "      <th>271</th>\n",
       "      <td>case90_day29</td>\n",
       "      <td>slice_0072</td>\n",
       "      <td>/kaggle/input/uw-madison-gi-tract-image-segmen...</td>\n",
       "      <td>/kaggle/input/uw-madison-gi-tract-image-segmen...</td>\n",
       "      <td>case90_day29</td>\n",
       "      <td>0</td>\n",
       "      <td>0</td>\n",
       "      <td>184</td>\n",
       "      <td>2005</td>\n",
       "      <td>90</td>\n",
       "      <td>29</td>\n",
       "    </tr>\n",
       "    <tr>\n",
       "      <th>272</th>\n",
       "      <td>case91_day0</td>\n",
       "      <td>slice_0072</td>\n",
       "      <td>/kaggle/input/uw-madison-gi-tract-image-segmen...</td>\n",
       "      <td>/kaggle/input/uw-madison-gi-tract-image-segmen...</td>\n",
       "      <td>case91_day0</td>\n",
       "      <td>0</td>\n",
       "      <td>0</td>\n",
       "      <td>160</td>\n",
       "      <td>1823</td>\n",
       "      <td>91</td>\n",
       "      <td>0</td>\n",
       "    </tr>\n",
       "    <tr>\n",
       "      <th>273</th>\n",
       "      <td>case92_day0</td>\n",
       "      <td>slice_0072</td>\n",
       "      <td>/kaggle/input/uw-madison-gi-tract-image-segmen...</td>\n",
       "      <td>/kaggle/input/uw-madison-gi-tract-image-segmen...</td>\n",
       "      <td>case92_day0</td>\n",
       "      <td>0</td>\n",
       "      <td>0</td>\n",
       "      <td>156</td>\n",
       "      <td>1999</td>\n",
       "      <td>92</td>\n",
       "      <td>0</td>\n",
       "    </tr>\n",
       "  </tbody>\n",
       "</table>\n",
       "<p>274 rows × 11 columns</p>\n",
       "</div>"
      ],
      "text/plain": [
       "             index   req_slice  \\\n",
       "0    case101_day20  slice_0072   \n",
       "1    case101_day22  slice_0072   \n",
       "2    case101_day26  slice_0072   \n",
       "3    case101_day32  slice_0072   \n",
       "4     case102_day0  slice_0072   \n",
       "..             ...         ...   \n",
       "269    case90_day0  slice_0072   \n",
       "270   case90_day22  slice_0072   \n",
       "271   case90_day29  slice_0072   \n",
       "272    case91_day0  slice_0072   \n",
       "273    case92_day0  slice_0072   \n",
       "\n",
       "                                            slice_name  \\\n",
       "0    /kaggle/input/uw-madison-gi-tract-image-segmen...   \n",
       "1    /kaggle/input/uw-madison-gi-tract-image-segmen...   \n",
       "2    /kaggle/input/uw-madison-gi-tract-image-segmen...   \n",
       "3    /kaggle/input/uw-madison-gi-tract-image-segmen...   \n",
       "4    /kaggle/input/uw-madison-gi-tract-image-segmen...   \n",
       "..                                                 ...   \n",
       "269  /kaggle/input/uw-madison-gi-tract-image-segmen...   \n",
       "270  /kaggle/input/uw-madison-gi-tract-image-segmen...   \n",
       "271  /kaggle/input/uw-madison-gi-tract-image-segmen...   \n",
       "272  /kaggle/input/uw-madison-gi-tract-image-segmen...   \n",
       "273  /kaggle/input/uw-madison-gi-tract-image-segmen...   \n",
       "\n",
       "                                           nslice_name           name  \\\n",
       "0    /kaggle/input/uw-madison-gi-tract-image-segmen...  case101_day20   \n",
       "1    /kaggle/input/uw-madison-gi-tract-image-segmen...  case101_day22   \n",
       "2    /kaggle/input/uw-madison-gi-tract-image-segmen...  case101_day26   \n",
       "3    /kaggle/input/uw-madison-gi-tract-image-segmen...  case101_day32   \n",
       "4    /kaggle/input/uw-madison-gi-tract-image-segmen...   case102_day0   \n",
       "..                                                 ...            ...   \n",
       "269  /kaggle/input/uw-madison-gi-tract-image-segmen...    case90_day0   \n",
       "270  /kaggle/input/uw-madison-gi-tract-image-segmen...   case90_day22   \n",
       "271  /kaggle/input/uw-madison-gi-tract-image-segmen...   case90_day29   \n",
       "272  /kaggle/input/uw-madison-gi-tract-image-segmen...    case91_day0   \n",
       "273  /kaggle/input/uw-madison-gi-tract-image-segmen...    case92_day0   \n",
       "\n",
       "     min_min  min_max  max_min  max_max  case  day  \n",
       "0          0        0      115     1909   101   20  \n",
       "1          0        0      202     1954   101   22  \n",
       "2          0        0     2055    15495   101   26  \n",
       "3          0        0      238     1315   101   32  \n",
       "4          0        0      178     3205   102    0  \n",
       "..       ...      ...      ...      ...   ...  ...  \n",
       "269        0        0      219     1141    90    0  \n",
       "270        0        0      159     2424    90   22  \n",
       "271        0        0      184     2005    90   29  \n",
       "272        0        0      160     1823    91    0  \n",
       "273        0        0      156     1999    92    0  \n",
       "\n",
       "[274 rows x 11 columns]"
      ]
     },
     "execution_count": 17,
     "metadata": {},
     "output_type": "execute_result"
    }
   ],
   "source": [
    "slice_df = slice_df.merge(intensity_df, on=['name'])\n",
    "slice_df"
   ]
  },
  {
   "cell_type": "markdown",
   "id": "c332e23a",
   "metadata": {
    "papermill": {
     "duration": 0.800101,
     "end_time": "2022-07-14T12:02:43.058903",
     "exception": false,
     "start_time": "2022-07-14T12:02:42.258802",
     "status": "completed"
    },
    "tags": []
   },
   "source": [
    "## Cropping and Saving Coordinates"
   ]
  },
  {
   "cell_type": "code",
   "execution_count": 18,
   "id": "26431c45",
   "metadata": {
    "execution": {
     "iopub.execute_input": "2022-07-14T12:02:44.569204Z",
     "iopub.status.busy": "2022-07-14T12:02:44.568477Z",
     "iopub.status.idle": "2022-07-14T12:02:44.571690Z",
     "shell.execute_reply": "2022-07-14T12:02:44.571192Z",
     "shell.execute_reply.started": "2022-07-14T11:35:20.079783Z"
    },
    "papermill": {
     "duration": 0.759373,
     "end_time": "2022-07-14T12:02:44.571815",
     "exception": false,
     "start_time": "2022-07-14T12:02:43.812442",
     "status": "completed"
    },
    "tags": []
   },
   "outputs": [],
   "source": [
    "tol =0.1\n",
    "pos = 50\n",
    "pos_val = 0\n",
    "def crop_borders(im_path, max_max, plot_flag=False):\n",
    "    im, _ = load_img(im_path)    \n",
    "#     im = cv2.imread(im_path, cv2.IMREAD_UNCHANGED)\n",
    "    im = im.astype('float32') # original is uint16\n",
    "    img = im / float(max_max)\n",
    "    mask = img>tol\n",
    "    mask[:pos,:pos] =pos_val\n",
    "    mask[-pos:,-pos:] =pos_val \n",
    "    mask[-pos:,:pos] =pos_val  \n",
    "    mask[:pos,-pos:] = pos_val\n",
    "    if plot_flag:\n",
    "        plt.imshow(mask)\n",
    "        plt.show()\n",
    "\n",
    "    m,n = img.shape\n",
    "    mask0,mask1 = mask.any(0),mask.any(1)\n",
    "    col_start,col_end = mask0.argmax(),n-mask0[::-1].argmax()\n",
    "    row_start,row_end = mask1.argmax(),m-mask1[::-1].argmax()\n",
    "    new_im = img[row_start:row_end,col_start:col_end]\n",
    "\n",
    "#     f, axarr = plt.subplots(1, 2)\n",
    "#     axarr[0].imshow(img)\n",
    "#     axarr[1].imshow(new_im)\n",
    "#     plt.show()\n",
    "\n",
    "#     print(im_path, img.shape, max_max, new_im.shape, row_start,row_end,col_start,col_end)\n",
    "\n",
    "    assert (row_end - row_start) == new_im.shape[0]\n",
    "    assert (col_end - col_start) == new_im.shape[1]\n",
    "    return new_im.shape[0], new_im.shape[1], row_start,row_end,col_start,col_end"
   ]
  },
  {
   "cell_type": "code",
   "execution_count": 19,
   "id": "ff73df87",
   "metadata": {
    "_kg_hide-output": true,
    "execution": {
     "iopub.execute_input": "2022-07-14T12:02:46.081886Z",
     "iopub.status.busy": "2022-07-14T12:02:46.080962Z",
     "iopub.status.idle": "2022-07-14T12:02:47.500926Z",
     "shell.execute_reply": "2022-07-14T12:02:47.501379Z",
     "shell.execute_reply.started": "2022-07-14T11:35:20.090669Z"
    },
    "papermill": {
     "duration": 2.171854,
     "end_time": "2022-07-14T12:02:47.501549",
     "exception": false,
     "start_time": "2022-07-14T12:02:45.329695",
     "status": "completed"
    },
    "tags": []
   },
   "outputs": [
    {
     "name": "stderr",
     "output_type": "stream",
     "text": [
      "274it [00:01, 193.82it/s]\n"
     ]
    }
   ],
   "source": [
    "cnt = 0\n",
    "for ind, row in tqdm(slice_df.iterrows()):\n",
    "    im_path = row['nslice_name']\n",
    "    new_size = crop_borders(im_path, row['max_max'], plot_flag=False)\n",
    "    slice_df.loc[ind, ['new_w', 'new_h', 'row_1', 'row_2', 'col_1', 'col_2']] = new_size\n",
    "#     cnt += 1\n",
    "#     if cnt == 3:\n",
    "#         break"
   ]
  },
  {
   "cell_type": "code",
   "execution_count": 20,
   "id": "7a8b3ea6",
   "metadata": {
    "execution": {
     "iopub.execute_input": "2022-07-14T12:02:49.210895Z",
     "iopub.status.busy": "2022-07-14T12:02:49.210004Z",
     "iopub.status.idle": "2022-07-14T12:02:49.222787Z",
     "shell.execute_reply": "2022-07-14T12:02:49.223744Z",
     "shell.execute_reply.started": "2022-07-14T11:35:21.587907Z"
    },
    "papermill": {
     "duration": 0.962726,
     "end_time": "2022-07-14T12:02:49.223966",
     "exception": false,
     "start_time": "2022-07-14T12:02:48.261240",
     "status": "completed"
    },
    "tags": []
   },
   "outputs": [],
   "source": [
    "def get_updated_df(tmp):\n",
    "    for ind, row in tqdm(tmp.iterrows()):\n",
    "        if row[field_name] > max_val:\n",
    "            s1 = row[f'{name}1'] + abs(np.ceil((row[field_name] - max_val) /2))\n",
    "            s2 = row[f'{name}2'] - abs(np.floor((row[field_name] - max_val) /2))\n",
    "            assert s1 >= 0\n",
    "            if s2 > im_max:\n",
    "              diff = s2 - im_max\n",
    "              s1 = s1 + diff\n",
    "        else:\n",
    "            s1 = row[f'{name}1'] - abs(np.ceil((row[field_name] - max_val) /2))\n",
    "            s2 = row[f'{name}2'] + abs(np.floor((row[field_name] - max_val) /2))\n",
    "            \n",
    "            if s1 < 0:\n",
    "              diff = abs(s1)\n",
    "              s1 = 0 \n",
    "              s2 = s2 + diff\n",
    "\n",
    "            if s2 > im_max:\n",
    "              diff = s2 - im_max\n",
    "              s1 = s1 - diff\n",
    "              s2 = im_max\n",
    "            \n",
    "            if (s2 - s1) > max_val:\n",
    "              import ipdb\n",
    "              ipdb.set_trace()\n",
    "\n",
    "        tmp.loc[ind, [f'n_{name}1', f'n_{name}2']] = s1, s2\n",
    "    \n",
    "    assert (tmp[f'{name}1'] >=0 ).all()\n",
    "    assert (tmp[f'{name}2'] < im_max ).all()\n",
    "    tmp[f'{name}diff'] = tmp[f'n_{name}2'] - tmp[f'n_{name}1']\n",
    "    assert len(tmp[tmp[f'{name}diff'] > max_val])  == 0\n",
    "    return tmp"
   ]
  },
  {
   "cell_type": "code",
   "execution_count": 21,
   "id": "9574b173",
   "metadata": {
    "execution": {
     "iopub.execute_input": "2022-07-14T12:02:50.829257Z",
     "iopub.status.busy": "2022-07-14T12:02:50.828289Z",
     "iopub.status.idle": "2022-07-14T12:02:51.518616Z",
     "shell.execute_reply": "2022-07-14T12:02:51.519168Z",
     "shell.execute_reply.started": "2022-07-14T11:35:21.602836Z"
    },
    "papermill": {
     "duration": 1.450587,
     "end_time": "2022-07-14T12:02:51.519389",
     "exception": false,
     "start_time": "2022-07-14T12:02:50.068802",
     "status": "completed"
    },
    "tags": []
   },
   "outputs": [
    {
     "name": "stderr",
     "output_type": "stream",
     "text": [
      "274it [00:00, 795.08it/s]\n",
      "274it [00:00, 835.29it/s]\n"
     ]
    }
   ],
   "source": [
    "max_w = 224\n",
    "max_h = 320\n",
    "im_w = CFG.img_size[0]\n",
    "im_h = CFG.img_size[1]\n",
    "\n",
    "field_name = 'new_w'\n",
    "name = 'row_'\n",
    "max_val = max_w\n",
    "im_max = im_w\n",
    "slice_df = get_updated_df(slice_df)\n",
    "\n",
    "field_name = 'new_h'\n",
    "name = 'col_'\n",
    "max_val = max_h\n",
    "im_max = im_h\n",
    "slice_df = get_updated_df(slice_df)"
   ]
  },
  {
   "cell_type": "code",
   "execution_count": 22,
   "id": "b86636dd",
   "metadata": {
    "execution": {
     "iopub.execute_input": "2022-07-14T12:02:53.077920Z",
     "iopub.status.busy": "2022-07-14T12:02:53.077216Z",
     "iopub.status.idle": "2022-07-14T12:02:53.080040Z",
     "shell.execute_reply": "2022-07-14T12:02:53.080480Z",
     "shell.execute_reply.started": "2022-07-14T11:35:22.300159Z"
    },
    "papermill": {
     "duration": 0.778597,
     "end_time": "2022-07-14T12:02:53.080627",
     "exception": false,
     "start_time": "2022-07-14T12:02:52.302030",
     "status": "completed"
    },
    "tags": []
   },
   "outputs": [
    {
     "data": {
      "text/plain": [
       "(array([224.]), array([320.]))"
      ]
     },
     "execution_count": 22,
     "metadata": {},
     "output_type": "execute_result"
    }
   ],
   "source": [
    "slice_df['row_diff'].unique(), slice_df['col_diff'].unique(),"
   ]
  },
  {
   "cell_type": "code",
   "execution_count": 23,
   "id": "9e3c3b77",
   "metadata": {
    "execution": {
     "iopub.execute_input": "2022-07-14T12:02:54.640902Z",
     "iopub.status.busy": "2022-07-14T12:02:54.639922Z",
     "iopub.status.idle": "2022-07-14T12:02:54.678116Z",
     "shell.execute_reply": "2022-07-14T12:02:54.678643Z",
     "shell.execute_reply.started": "2022-07-14T11:35:22.312677Z"
    },
    "papermill": {
     "duration": 0.825742,
     "end_time": "2022-07-14T12:02:54.678816",
     "exception": false,
     "start_time": "2022-07-14T12:02:53.853074",
     "status": "completed"
    },
    "tags": []
   },
   "outputs": [
    {
     "data": {
      "text/html": [
       "<div>\n",
       "<style scoped>\n",
       "    .dataframe tbody tr th:only-of-type {\n",
       "        vertical-align: middle;\n",
       "    }\n",
       "\n",
       "    .dataframe tbody tr th {\n",
       "        vertical-align: top;\n",
       "    }\n",
       "\n",
       "    .dataframe thead th {\n",
       "        text-align: right;\n",
       "    }\n",
       "</style>\n",
       "<table border=\"1\" class=\"dataframe\">\n",
       "  <thead>\n",
       "    <tr style=\"text-align: right;\">\n",
       "      <th></th>\n",
       "      <th>id</th>\n",
       "      <th>case</th>\n",
       "      <th>day</th>\n",
       "      <th>slice</th>\n",
       "      <th>image_path</th>\n",
       "      <th>height</th>\n",
       "      <th>width</th>\n",
       "      <th>index</th>\n",
       "      <th>req_slice</th>\n",
       "      <th>slice_name</th>\n",
       "      <th>...</th>\n",
       "      <th>row_1</th>\n",
       "      <th>row_2</th>\n",
       "      <th>col_1</th>\n",
       "      <th>col_2</th>\n",
       "      <th>n_row_1</th>\n",
       "      <th>n_row_2</th>\n",
       "      <th>row_diff</th>\n",
       "      <th>n_col_1</th>\n",
       "      <th>n_col_2</th>\n",
       "      <th>col_diff</th>\n",
       "    </tr>\n",
       "  </thead>\n",
       "  <tbody>\n",
       "    <tr>\n",
       "      <th>0</th>\n",
       "      <td>case123_day20_slice_0001</td>\n",
       "      <td>123</td>\n",
       "      <td>20</td>\n",
       "      <td>1</td>\n",
       "      <td>/kaggle/input/uw-madison-gi-tract-image-segmen...</td>\n",
       "      <td>266</td>\n",
       "      <td>266</td>\n",
       "      <td>case123_day20</td>\n",
       "      <td>slice_0072</td>\n",
       "      <td>/kaggle/input/uw-madison-gi-tract-image-segmen...</td>\n",
       "      <td>...</td>\n",
       "      <td>53.0</td>\n",
       "      <td>245.0</td>\n",
       "      <td>69.0</td>\n",
       "      <td>306.0</td>\n",
       "      <td>37.0</td>\n",
       "      <td>261.0</td>\n",
       "      <td>224.0</td>\n",
       "      <td>28.0</td>\n",
       "      <td>348.0</td>\n",
       "      <td>320.0</td>\n",
       "    </tr>\n",
       "    <tr>\n",
       "      <th>1</th>\n",
       "      <td>case123_day20_slice_0002</td>\n",
       "      <td>123</td>\n",
       "      <td>20</td>\n",
       "      <td>2</td>\n",
       "      <td>/kaggle/input/uw-madison-gi-tract-image-segmen...</td>\n",
       "      <td>266</td>\n",
       "      <td>266</td>\n",
       "      <td>case123_day20</td>\n",
       "      <td>slice_0072</td>\n",
       "      <td>/kaggle/input/uw-madison-gi-tract-image-segmen...</td>\n",
       "      <td>...</td>\n",
       "      <td>53.0</td>\n",
       "      <td>245.0</td>\n",
       "      <td>69.0</td>\n",
       "      <td>306.0</td>\n",
       "      <td>37.0</td>\n",
       "      <td>261.0</td>\n",
       "      <td>224.0</td>\n",
       "      <td>28.0</td>\n",
       "      <td>348.0</td>\n",
       "      <td>320.0</td>\n",
       "    </tr>\n",
       "    <tr>\n",
       "      <th>2</th>\n",
       "      <td>case123_day20_slice_0003</td>\n",
       "      <td>123</td>\n",
       "      <td>20</td>\n",
       "      <td>3</td>\n",
       "      <td>/kaggle/input/uw-madison-gi-tract-image-segmen...</td>\n",
       "      <td>266</td>\n",
       "      <td>266</td>\n",
       "      <td>case123_day20</td>\n",
       "      <td>slice_0072</td>\n",
       "      <td>/kaggle/input/uw-madison-gi-tract-image-segmen...</td>\n",
       "      <td>...</td>\n",
       "      <td>53.0</td>\n",
       "      <td>245.0</td>\n",
       "      <td>69.0</td>\n",
       "      <td>306.0</td>\n",
       "      <td>37.0</td>\n",
       "      <td>261.0</td>\n",
       "      <td>224.0</td>\n",
       "      <td>28.0</td>\n",
       "      <td>348.0</td>\n",
       "      <td>320.0</td>\n",
       "    </tr>\n",
       "    <tr>\n",
       "      <th>3</th>\n",
       "      <td>case123_day20_slice_0004</td>\n",
       "      <td>123</td>\n",
       "      <td>20</td>\n",
       "      <td>4</td>\n",
       "      <td>/kaggle/input/uw-madison-gi-tract-image-segmen...</td>\n",
       "      <td>266</td>\n",
       "      <td>266</td>\n",
       "      <td>case123_day20</td>\n",
       "      <td>slice_0072</td>\n",
       "      <td>/kaggle/input/uw-madison-gi-tract-image-segmen...</td>\n",
       "      <td>...</td>\n",
       "      <td>53.0</td>\n",
       "      <td>245.0</td>\n",
       "      <td>69.0</td>\n",
       "      <td>306.0</td>\n",
       "      <td>37.0</td>\n",
       "      <td>261.0</td>\n",
       "      <td>224.0</td>\n",
       "      <td>28.0</td>\n",
       "      <td>348.0</td>\n",
       "      <td>320.0</td>\n",
       "    </tr>\n",
       "    <tr>\n",
       "      <th>4</th>\n",
       "      <td>case123_day20_slice_0005</td>\n",
       "      <td>123</td>\n",
       "      <td>20</td>\n",
       "      <td>5</td>\n",
       "      <td>/kaggle/input/uw-madison-gi-tract-image-segmen...</td>\n",
       "      <td>266</td>\n",
       "      <td>266</td>\n",
       "      <td>case123_day20</td>\n",
       "      <td>slice_0072</td>\n",
       "      <td>/kaggle/input/uw-madison-gi-tract-image-segmen...</td>\n",
       "      <td>...</td>\n",
       "      <td>53.0</td>\n",
       "      <td>245.0</td>\n",
       "      <td>69.0</td>\n",
       "      <td>306.0</td>\n",
       "      <td>37.0</td>\n",
       "      <td>261.0</td>\n",
       "      <td>224.0</td>\n",
       "      <td>28.0</td>\n",
       "      <td>348.0</td>\n",
       "      <td>320.0</td>\n",
       "    </tr>\n",
       "  </tbody>\n",
       "</table>\n",
       "<p>5 rows × 28 columns</p>\n",
       "</div>"
      ],
      "text/plain": [
       "                         id  case  day  slice  \\\n",
       "0  case123_day20_slice_0001   123   20      1   \n",
       "1  case123_day20_slice_0002   123   20      2   \n",
       "2  case123_day20_slice_0003   123   20      3   \n",
       "3  case123_day20_slice_0004   123   20      4   \n",
       "4  case123_day20_slice_0005   123   20      5   \n",
       "\n",
       "                                          image_path  height  width  \\\n",
       "0  /kaggle/input/uw-madison-gi-tract-image-segmen...     266    266   \n",
       "1  /kaggle/input/uw-madison-gi-tract-image-segmen...     266    266   \n",
       "2  /kaggle/input/uw-madison-gi-tract-image-segmen...     266    266   \n",
       "3  /kaggle/input/uw-madison-gi-tract-image-segmen...     266    266   \n",
       "4  /kaggle/input/uw-madison-gi-tract-image-segmen...     266    266   \n",
       "\n",
       "           index   req_slice  \\\n",
       "0  case123_day20  slice_0072   \n",
       "1  case123_day20  slice_0072   \n",
       "2  case123_day20  slice_0072   \n",
       "3  case123_day20  slice_0072   \n",
       "4  case123_day20  slice_0072   \n",
       "\n",
       "                                          slice_name  ... row_1  row_2  col_1  \\\n",
       "0  /kaggle/input/uw-madison-gi-tract-image-segmen...  ...  53.0  245.0   69.0   \n",
       "1  /kaggle/input/uw-madison-gi-tract-image-segmen...  ...  53.0  245.0   69.0   \n",
       "2  /kaggle/input/uw-madison-gi-tract-image-segmen...  ...  53.0  245.0   69.0   \n",
       "3  /kaggle/input/uw-madison-gi-tract-image-segmen...  ...  53.0  245.0   69.0   \n",
       "4  /kaggle/input/uw-madison-gi-tract-image-segmen...  ...  53.0  245.0   69.0   \n",
       "\n",
       "   col_2  n_row_1  n_row_2  row_diff  n_col_1  n_col_2  col_diff  \n",
       "0  306.0     37.0    261.0     224.0     28.0    348.0     320.0  \n",
       "1  306.0     37.0    261.0     224.0     28.0    348.0     320.0  \n",
       "2  306.0     37.0    261.0     224.0     28.0    348.0     320.0  \n",
       "3  306.0     37.0    261.0     224.0     28.0    348.0     320.0  \n",
       "4  306.0     37.0    261.0     224.0     28.0    348.0     320.0  \n",
       "\n",
       "[5 rows x 28 columns]"
      ]
     },
     "execution_count": 23,
     "metadata": {},
     "output_type": "execute_result"
    }
   ],
   "source": [
    "test_df = sub_df.merge(path_df, on=['case','day','slice'], how='left')\n",
    "test_df = test_df.merge(slice_df, on=['case','day'])\n",
    "test_df.head()"
   ]
  },
  {
   "cell_type": "code",
   "execution_count": 24,
   "id": "4c45f506",
   "metadata": {
    "execution": {
     "iopub.execute_input": "2022-07-14T12:02:56.272154Z",
     "iopub.status.busy": "2022-07-14T12:02:56.271208Z",
     "iopub.status.idle": "2022-07-14T12:02:56.273225Z",
     "shell.execute_reply": "2022-07-14T12:02:56.273670Z",
     "shell.execute_reply.started": "2022-07-14T11:35:22.353101Z"
    },
    "papermill": {
     "duration": 0.798226,
     "end_time": "2022-07-14T12:02:56.273807",
     "exception": false,
     "start_time": "2022-07-14T12:02:55.475581",
     "status": "completed"
    },
    "tags": []
   },
   "outputs": [],
   "source": [
    "assert (slice_df.n_row_1 >= 0).all() \n",
    "assert (slice_df.n_row_2 > 0).all()\n",
    "assert (slice_df.n_col_1 >= 0).all() \n",
    "assert (slice_df.n_col_2 > 0).all()"
   ]
  },
  {
   "cell_type": "markdown",
   "id": "fbd8024f",
   "metadata": {
    "papermill": {
     "duration": 0.76735,
     "end_time": "2022-07-14T12:02:57.869838",
     "exception": false,
     "start_time": "2022-07-14T12:02:57.102488",
     "status": "completed"
    },
    "tags": []
   },
   "source": [
    "# Create 2.5D MetaData"
   ]
  },
  {
   "cell_type": "code",
   "execution_count": 25,
   "id": "dbe69fe8",
   "metadata": {
    "execution": {
     "iopub.execute_input": "2022-07-14T12:02:59.832235Z",
     "iopub.status.busy": "2022-07-14T12:02:59.831343Z",
     "iopub.status.idle": "2022-07-14T12:02:59.863337Z",
     "shell.execute_reply": "2022-07-14T12:02:59.862477Z",
     "shell.execute_reply.started": "2022-07-14T11:35:22.361624Z"
    },
    "papermill": {
     "duration": 1.23062,
     "end_time": "2022-07-14T12:02:59.863535",
     "exception": false,
     "start_time": "2022-07-14T12:02:58.632915",
     "status": "completed"
    },
    "tags": []
   },
   "outputs": [
    {
     "data": {
      "text/plain": [
       "['/kaggle/input/uw-madison-gi-tract-image-segmentation/train/case123/case123_day20/scans/slice_0001_266_266_1.50_1.50.png',\n",
       " '/kaggle/input/uw-madison-gi-tract-image-segmentation/train/case123/case123_day20/scans/slice_0003_266_266_1.50_1.50.png',\n",
       " '/kaggle/input/uw-madison-gi-tract-image-segmentation/train/case123/case123_day20/scans/slice_0005_266_266_1.50_1.50.png']"
      ]
     },
     "execution_count": 25,
     "metadata": {},
     "output_type": "execute_result"
    }
   ],
   "source": [
    "channels=3\n",
    "stride=2\n",
    "for i in range(channels):\n",
    "    test_df[f'image_path_{i:02}'] = test_df.groupby(['case','day'])['image_path'].shift(-i*stride).fillna(method=\"ffill\")\n",
    "test_df['image_paths'] = test_df[[f'image_path_{i:02d}' for i in range(channels)]].values.tolist()\n",
    "test_df.image_paths[0]"
   ]
  },
  {
   "cell_type": "markdown",
   "id": "4e1b8dbb",
   "metadata": {
    "papermill": {
     "duration": 0.786564,
     "end_time": "2022-07-14T12:03:01.835333",
     "exception": false,
     "start_time": "2022-07-14T12:03:01.048769",
     "status": "completed"
    },
    "tags": []
   },
   "source": [
    "# 🍚 Dataset"
   ]
  },
  {
   "cell_type": "code",
   "execution_count": 26,
   "id": "c7bd2f88",
   "metadata": {
    "_kg_hide-input": true,
    "execution": {
     "iopub.execute_input": "2022-07-14T12:03:03.368471Z",
     "iopub.status.busy": "2022-07-14T12:03:03.367465Z",
     "iopub.status.idle": "2022-07-14T12:03:03.369492Z",
     "shell.execute_reply": "2022-07-14T12:03:03.370059Z",
     "shell.execute_reply.started": "2022-07-14T11:35:22.386196Z"
    },
    "papermill": {
     "duration": 0.782014,
     "end_time": "2022-07-14T12:03:03.370211",
     "exception": false,
     "start_time": "2022-07-14T12:03:02.588197",
     "status": "completed"
    },
    "tags": []
   },
   "outputs": [],
   "source": [
    "class BuildDataset(torch.utils.data.Dataset):\n",
    "    def __init__(self, df, label=False, transforms=None):\n",
    "        self.df         = df\n",
    "        self.label      = label\n",
    "        self.img_paths  = df['image_paths'].tolist()\n",
    "        self.ids        = df['id'].tolist()\n",
    "        self.scales     = df['max_max'].tolist()\n",
    "        if CFG.cropped_analysis:\n",
    "            self.r1 = df['n_row_1'].tolist()\n",
    "            self.r2 = df['n_row_2'].tolist()\n",
    "            self.c1 = df['n_col_1'].tolist()\n",
    "            self.c2 = df['n_col_2'].tolist()\n",
    "        else:\n",
    "            self.r1 = None\n",
    "            self.r2 = None\n",
    "            self.c1 = None\n",
    "            self.c2 = None\n",
    "        \n",
    "        if 'msk_path' in df.columns:\n",
    "            self.msk_paths  = df['mask_path'].tolist()\n",
    "        else:\n",
    "            self.msk_paths = None\n",
    "        self.transforms = transforms\n",
    "        \n",
    "    def __len__(self):\n",
    "        return len(self.df)\n",
    "    \n",
    "    def __getitem__(self, index):\n",
    "        img_path  = self.img_paths[index]\n",
    "        id_       = self.ids[index]\n",
    "        scales    = self.scales[index]\n",
    "        img = []\n",
    "        img, shape0 = load_imgs(img_path, scaling_factor =scales)\n",
    "        h, w = shape0\n",
    "        pos_info = {'r1': self.r1[index],\n",
    "                    'r2': self.r2[index],\n",
    "                    'c1': self.c1[index],\n",
    "                    'c2': self.c2[index],\n",
    "                    'height': h,\n",
    "                    'width': w\n",
    "                   }\n",
    "        img = img[int(pos_info['r1']):int(pos_info['r2']), int(pos_info['c1']):int(pos_info['c2']), :]\n",
    "        if self.label:\n",
    "            msk_path = self.msk_paths[index]\n",
    "            msk = load_msk(msk_path)\n",
    "            if self.transforms:\n",
    "                data = self.transforms(image=img, mask=msk)\n",
    "                img  = data['image']\n",
    "                msk  = data['mask']\n",
    "            img = np.transpose(img, (2, 0, 1))\n",
    "            msk = np.transpose(msk, (2, 0, 1))\n",
    "            return torch.tensor(img), torch.tensor(msk)\n",
    "        else:\n",
    "            if self.transforms:\n",
    "                data = self.transforms(image=img)\n",
    "                img  = data['image']\n",
    "            img = np.transpose(img, (2, 0, 1))\n",
    "            return torch.tensor(img), pos_info, id_, h, w"
   ]
  },
  {
   "cell_type": "markdown",
   "id": "cbc25e0d",
   "metadata": {
    "papermill": {
     "duration": 0.777534,
     "end_time": "2022-07-14T12:03:04.916844",
     "exception": false,
     "start_time": "2022-07-14T12:03:04.139310",
     "status": "completed"
    },
    "tags": []
   },
   "source": [
    "# 🌈 Augmentations"
   ]
  },
  {
   "cell_type": "code",
   "execution_count": 27,
   "id": "90099fef",
   "metadata": {
    "_kg_hide-input": true,
    "_kg_hide-output": true,
    "execution": {
     "iopub.execute_input": "2022-07-14T12:03:06.475785Z",
     "iopub.status.busy": "2022-07-14T12:03:06.475074Z",
     "iopub.status.idle": "2022-07-14T12:03:06.479672Z",
     "shell.execute_reply": "2022-07-14T12:03:06.479160Z",
     "shell.execute_reply.started": "2022-07-14T11:35:22.403717Z"
    },
    "papermill": {
     "duration": 0.794252,
     "end_time": "2022-07-14T12:03:06.479807",
     "exception": false,
     "start_time": "2022-07-14T12:03:05.685555",
     "status": "completed"
    },
    "tags": []
   },
   "outputs": [],
   "source": [
    "data_transforms = {\n",
    "    \"train\": A.Compose([\n",
    "#         A.Resize(*CFG.img_size, interpolation=cv2.INTER_NEAREST),\n",
    "        A.HorizontalFlip(p=0.5),\n",
    "        A.VerticalFlip(p=0.5),\n",
    "#         A.ShiftScaleRotate(shift_limit=0.0625, scale_limit=0.05, rotate_limit=5, p=0.5),\n",
    "        A.OneOf([\n",
    "            A.GridDistortion(num_steps=5, distort_limit=0.05, p=1.0),\n",
    "# #             A.OpticalDistortion(distort_limit=0.05, shift_limit=0.05, p=1.0),\n",
    "            A.ElasticTransform(alpha=1, sigma=50, alpha_affine=50, p=1.0)\n",
    "        ], p=0.25),\n",
    "#         A.CoarseDropout(max_holes=8, max_height=CFG.img_size[0]//20, max_width=CFG.img_size[1]//20,\n",
    "#                          min_holes=5, fill_value=0, mask_fill_value=0, p=0.5),\n",
    "        ], p=1.0),\n",
    "    \n",
    "    \"valid\": A.Compose([\n",
    "#         A.Resize(*CFG.img_size, interpolation=cv2.INTER_NEAREST),\n",
    "        ], p=1.0)\n",
    "}"
   ]
  },
  {
   "cell_type": "markdown",
   "id": "06410d8f",
   "metadata": {
    "papermill": {
     "duration": 0.773698,
     "end_time": "2022-07-14T12:03:08.074572",
     "exception": false,
     "start_time": "2022-07-14T12:03:07.300874",
     "status": "completed"
    },
    "tags": []
   },
   "source": [
    "# 📦 Model\n"
   ]
  },
  {
   "cell_type": "code",
   "execution_count": 28,
   "id": "17f50879",
   "metadata": {
    "_kg_hide-input": true,
    "execution": {
     "iopub.execute_input": "2022-07-14T12:03:09.653528Z",
     "iopub.status.busy": "2022-07-14T12:03:09.652379Z",
     "iopub.status.idle": "2022-07-14T12:03:10.788928Z",
     "shell.execute_reply": "2022-07-14T12:03:10.787954Z",
     "shell.execute_reply.started": "2022-07-14T11:35:22.422055Z"
    },
    "papermill": {
     "duration": 1.933507,
     "end_time": "2022-07-14T12:03:10.789073",
     "exception": false,
     "start_time": "2022-07-14T12:03:08.855566",
     "status": "completed"
    },
    "tags": []
   },
   "outputs": [],
   "source": [
    "import segmentation_models_pytorch as smp\n",
    "\n",
    "class model_segmentation(nn.Module):\n",
    "\n",
    "    def __init__(self, path, backbone):\n",
    "        super(model_segmentation, self).__init__()\n",
    "\n",
    "#         if \"upp\" not in path:\n",
    "#             self.model_unet = smp.Unet(\n",
    "#                                 encoder_name=backbone,#CFG.backbone,\n",
    "#     #                             wt_file_path=CFG.bb_path,\n",
    "#                                 encoder_weights=None,\n",
    "#                                 in_channels=3, \n",
    "#                                 classes=CFG.num_classes, \n",
    "#                                 activation=None\n",
    "#                              )\n",
    "#         else:\n",
    "        if 'scse' in path:\n",
    "            CFG.attention = 'scse'\n",
    "        else:\n",
    "            CFG.attention = None\n",
    "        self.model_unet = smp.UnetPlusPlus(\n",
    "                            encoder_name=backbone,#CFG.backbone, \n",
    "#                             wt_file_path=CFG.bb_path,\n",
    "                            encoder_weights=None,\n",
    "                            in_channels=3, \n",
    "                            classes=CFG.num_classes, \n",
    "                            activation=None,\n",
    "                            decoder_attention_type=CFG.attention,\n",
    "                         )\n",
    "\n",
    "        self.model_fpn = smp.FPN(\n",
    "                            encoder_name=backbone,#CFG.backbone, \n",
    "#                             wt_file_path=CFG.bb_path,\n",
    "                            encoder_weights=None,\n",
    "                            in_channels=3, \n",
    "                            classes=CFG.num_classes, \n",
    "                            activation=None\n",
    "                         )\n",
    "\n",
    "    def forward(self, x):\n",
    "        \n",
    "        global_features = self.model_unet.encoder(x)\n",
    "            \n",
    "        seg_feature_unet = self.model_unet.decoder(*global_features)\n",
    "        seg_feature_fpn = self.model_fpn.decoder(*global_features)\n",
    "        \n",
    "        out_u = self.model_unet.segmentation_head(seg_feature_unet)\n",
    "        out_f = self.model_fpn.segmentation_head(seg_feature_fpn)\n",
    "        \n",
    "        return 0.65 * out_u + 0.35 * out_f\n",
    "\n",
    "\n",
    "def build_model(backbone, path):\n",
    "    if CFG.shared_enc == False:\n",
    "        model = smp.Unet(\n",
    "            encoder_name=backbone,      # choose encoder, e.g. mobilenet_v2 or efficientnet-b7\n",
    "            encoder_weights='imagenet',     # use `imagenet` pre-trained weights for encoder initialization\n",
    "            in_channels=CFG.num_slices,                  # model input channels (1 for gray-scale images, 3 for RGB, etc.)\n",
    "            classes=CFG.num_classes,        # model output channels (number of classes in your dataset)\n",
    "            activation=None,\n",
    "            decoder_attention_type=CFG.attention,\n",
    "        )\n",
    "    else:\n",
    "        model = model_segmentation(path, backbone)\n",
    "\n",
    "    model.to(CFG.device)\n",
    "    return model\n",
    "\n",
    "def load_model(path):\n",
    "    \n",
    "    if \"ecnfl2\" in path.split('.')[-2].split('/')[-1]:\n",
    "        model = build_model(CFG.backbone['ecnfl2'], path)\n",
    "    elif \"b7\" in path.split('.')[-2].split('/')[-1]:\n",
    "        model = build_model(CFG.backbone['b7'], path)\n",
    "    elif \"b5\" in path:#.split('.')[-2].split('/')[-1]:\n",
    "        model = build_model(CFG.backbone['b5'], path)\n",
    "    elif \"tb8\" in path.split('.')[-2].split('/')[-1]:\n",
    "        model = build_model(CFG.backbone['tb8'], path)\n",
    "    elif \"rrs420\" in path.split('.')[-2].split('/')[-1]:\n",
    "        model = build_model(CFG.backbone['rrs420'], path)\n",
    "    elif \"rns2e\" in path.split('.')[-2].split('/')[-1]:\n",
    "        model = build_model(CFG.backbone['rns2e'], path)\n",
    "    elif \"v2l21\" in path.split('.')[-2].split('/')[-1]:\n",
    "        model = build_model(CFG.backbone['v2l21'], path)\n",
    "    elif \"rsn5040\" in path.split('.')[-2].split('/')[-1]:\n",
    "        model = build_model(CFG.backbone['rsn5040'], path)\n",
    "    elif \"ecr269\" in path.split('.')[-2].split('/')[-1]:\n",
    "        model = build_model(CFG.backbone['ecr269'], path)\n",
    "    elif \"rsn269\" in path.split('.')[-2].split('/')[-1]:\n",
    "        model = build_model(CFG.backbone['rsn269'], path)\n",
    "#     model = build_model(path)\n",
    "#     if \"eeeee\" in path:\n",
    "#         model.load_state_dict(torch.load(path)['model'])\n",
    "#     else:\n",
    "    model.load_state_dict(torch.load(path))\n",
    "    model.eval()\n",
    "    return model"
   ]
  },
  {
   "cell_type": "markdown",
   "id": "ce4535f6",
   "metadata": {
    "papermill": {
     "duration": 0.844519,
     "end_time": "2022-07-14T12:03:12.715257",
     "exception": false,
     "start_time": "2022-07-14T12:03:11.870738",
     "status": "completed"
    },
    "tags": []
   },
   "source": [
    "# 🔨 Helper"
   ]
  },
  {
   "cell_type": "code",
   "execution_count": 29,
   "id": "2776f52d",
   "metadata": {
    "_kg_hide-input": true,
    "execution": {
     "iopub.execute_input": "2022-07-14T12:03:14.289950Z",
     "iopub.status.busy": "2022-07-14T12:03:14.289176Z",
     "iopub.status.idle": "2022-07-14T12:03:15.595668Z",
     "shell.execute_reply": "2022-07-14T12:03:15.595088Z",
     "shell.execute_reply.started": "2022-07-14T11:35:23.566851Z"
    },
    "papermill": {
     "duration": 2.106019,
     "end_time": "2022-07-14T12:03:15.595814",
     "exception": false,
     "start_time": "2022-07-14T12:03:13.489795",
     "status": "completed"
    },
    "tags": []
   },
   "outputs": [],
   "source": [
    "import cupy as cp\n",
    "\n",
    "def mask2rle(msk, thr=0.5):\n",
    "    '''\n",
    "    img: numpy array, 1 - mask, 0 - background\n",
    "    Returns run length as string formated\n",
    "    '''\n",
    "    msk    = cp.array(msk)\n",
    "    pixels = msk.flatten()\n",
    "    pad    = cp.array([0])\n",
    "    pixels = cp.concatenate([pad, pixels, pad])\n",
    "    runs   = cp.where(pixels[1:] != pixels[:-1])[0] + 1\n",
    "    runs[1::2] -= runs[::2]\n",
    "    return ' '.join(str(x) for x in runs)\n",
    "\n",
    "def masks2rles(msks, ids, heights, widths, pos_info):\n",
    "    pred_strings = []; pred_ids = []; pred_classes = [];\n",
    "    for idx in range(msks.shape[0]):\n",
    "        nmsk = np.zeros([CFG.img_size[0], CFG.img_size[1], 3])\n",
    "#         import ipdb\n",
    "#         ipdb.set_trace()\n",
    "        msk = msks[idx]\n",
    "        nmsk[int(pos_info['r1'][idx]):int(pos_info['r2'][idx]), int(pos_info['c1'][idx]):int(pos_info['c2'][idx]), :] = msk\n",
    "        \n",
    "        height = heights[idx].item()\n",
    "        width = widths[idx].item()\n",
    "        shape0 = np.array([height, width])\n",
    "        resize = np.array([CFG.img_size[0], CFG.img_size[1]])\n",
    "        if np.any(shape0!=resize):\n",
    "            diff = resize - shape0\n",
    "            pad0 = diff[0]\n",
    "            pad1 = diff[1]\n",
    "            pady = [pad0//2, pad0//2 + pad0%2]\n",
    "            padx = [pad1//2, pad1//2 + pad1%2]\n",
    "            nmsk = nmsk[pady[0]:-pady[1], padx[0]:-padx[1], :]\n",
    "            nmsk = nmsk.reshape((*shape0, 3))\n",
    "        rle = [None]*3\n",
    "        for midx in [0, 1, 2]:\n",
    "            rle[midx] = mask2rle(nmsk[...,midx])\n",
    "        pred_strings.extend(rle)\n",
    "        pred_ids.extend([ids[idx]]*len(rle))\n",
    "        pred_classes.extend(['large_bowel', 'small_bowel', 'stomach'])\n",
    "    return pred_strings, pred_ids, pred_classes"
   ]
  },
  {
   "cell_type": "markdown",
   "id": "d9a8ca0a",
   "metadata": {
    "papermill": {
     "duration": 0.785631,
     "end_time": "2022-07-14T12:03:17.181141",
     "exception": false,
     "start_time": "2022-07-14T12:03:16.395510",
     "status": "completed"
    },
    "tags": []
   },
   "source": [
    "# 🔭 Inference"
   ]
  },
  {
   "cell_type": "code",
   "execution_count": 30,
   "id": "f79ab3c5",
   "metadata": {
    "execution": {
     "iopub.execute_input": "2022-07-14T12:03:18.730720Z",
     "iopub.status.busy": "2022-07-14T12:03:18.729688Z",
     "iopub.status.idle": "2022-07-14T12:03:18.732111Z",
     "shell.execute_reply": "2022-07-14T12:03:18.731598Z",
     "shell.execute_reply.started": "2022-07-14T11:35:24.890644Z"
    },
    "papermill": {
     "duration": 0.787801,
     "end_time": "2022-07-14T12:03:18.732233",
     "exception": false,
     "start_time": "2022-07-14T12:03:17.944432",
     "status": "completed"
    },
    "tags": []
   },
   "outputs": [],
   "source": [
    "# transforms = tta.Compose(\n",
    "#     [   tta.Scale(scales=[0.9, 1.0, 1.1], interpolation=\"nearest\"),\n",
    "#         tta.Multiply(factors=[0.9, 1, 1.1]),\n",
    "#     ]\n",
    "# )\n",
    "from time import time"
   ]
  },
  {
   "cell_type": "code",
   "execution_count": 31,
   "id": "2dd0b9fc",
   "metadata": {
    "_kg_hide-input": true,
    "execution": {
     "iopub.execute_input": "2022-07-14T12:03:20.343701Z",
     "iopub.status.busy": "2022-07-14T12:03:20.342764Z",
     "iopub.status.idle": "2022-07-14T12:03:20.344935Z",
     "shell.execute_reply": "2022-07-14T12:03:20.345425Z",
     "shell.execute_reply.started": "2022-07-14T11:35:24.898028Z"
    },
    "papermill": {
     "duration": 0.840826,
     "end_time": "2022-07-14T12:03:20.345585",
     "exception": false,
     "start_time": "2022-07-14T12:03:19.504759",
     "status": "completed"
    },
    "tags": []
   },
   "outputs": [],
   "source": [
    "@torch.no_grad()\n",
    "def infer(model_paths, test_loader, num_log=1, thr=CFG.thr):\n",
    "    msks = []; imgs = [];\n",
    "    pred_strings = []; pred_ids = []; pred_classes = [];\n",
    "    for idx, (img, pos_info, ids, heights, widths) in enumerate(tqdm(test_loader, total=len(test_loader), desc='Infer ')):\n",
    "        img = img.to(CFG.device, dtype=torch.float) # .squeeze(0)\n",
    "        size = img.size()\n",
    "        msk = []\n",
    "        msk = torch.zeros((size[0], 3, size[2], size[3]), device=CFG.device, dtype=torch.float32)\n",
    "        for path in model_paths:\n",
    "            model = load_model(path)            \n",
    "            if CFG.TTA_FLAG:\n",
    "                tta_model = tta.SegmentationTTAWrapper(model, transforms)\n",
    "                out   = tta_model(img) # .squeeze(0) # removing batch axis\n",
    "            else:\n",
    "                out = model(img) # .squeeze(0) # removing batch axis\n",
    "            out   = nn.Sigmoid()(out) # removing channel axis\n",
    "            msk+=out/len(model_paths)\n",
    "            del model, out\n",
    "            torch.cuda.empty_cache()\n",
    "#         msk = (msk.permute((0,2,3,1))>thr).to(torch.uint8).cpu().detach().numpy() # shape: (n, h, w, c)\n",
    "        msk = (msk.permute((0,2,3,1)))\n",
    "        # print(f\"after {msk.shape}\")\n",
    "        msk[:,:,:,0] = (msk[:,:,:,0] > CFG.thr[0])\n",
    "        msk[:,:,:,1] = (msk[:,:,:,1] > CFG.thr[1]) \n",
    "        msk[:,:,:,2] = (msk[:,:,:,2] > CFG.thr[2])\n",
    "        msk = msk.to(torch.uint8).cpu().detach().numpy() # shape: (n, h, w, c)\n",
    "        result = masks2rles(msk, ids, heights, widths , pos_info)\n",
    "        pred_strings.extend(result[0])\n",
    "        pred_ids.extend(result[1])\n",
    "        pred_classes.extend(result[2])\n",
    "#         print(\"Post time: \", (time() - post_time))\n",
    "        if idx<num_log:\n",
    "            img = img.permute((0,2,3,1)).cpu().detach().numpy()\n",
    "            imgs.append(img[:10])\n",
    "            msks.append(msk[:10])\n",
    "        del img, msk, result#, out, model\n",
    "        gc.collect()\n",
    "        torch.cuda.empty_cache()\n",
    "#         break\n",
    "    return pred_strings, pred_ids, pred_classes, imgs, msks"
   ]
  },
  {
   "cell_type": "code",
   "execution_count": 32,
   "id": "6037af33",
   "metadata": {
    "execution": {
     "iopub.execute_input": "2022-07-14T12:03:21.970309Z",
     "iopub.status.busy": "2022-07-14T12:03:21.969117Z",
     "iopub.status.idle": "2022-07-14T12:03:22.009634Z",
     "shell.execute_reply": "2022-07-14T12:03:22.008655Z",
     "shell.execute_reply.started": "2022-07-14T11:35:24.916456Z"
    },
    "papermill": {
     "duration": 0.897108,
     "end_time": "2022-07-14T12:03:22.009810",
     "exception": false,
     "start_time": "2022-07-14T12:03:21.112702",
     "status": "completed"
    },
    "tags": []
   },
   "outputs": [
    {
     "name": "stdout",
     "output_type": "stream",
     "text": [
      "['../input/full-rsn5040-bs80-e25/rsn5040_uppfpn_model_fold0.bin', '../input/full-tb8-scse-bs32-e25-3loss/tb8_uppfpn_model_fold0.bin', '../input/uppfpn-b7-c-bs48-e50/b7_224x320_model_fold0.bin', '../input/uppfpn-b7-c-bs48-e50/b7_224x320_model_fold1.bin', '../input/uppfpn-b7-c-bs48-e50/b7_224x320_model_fold2.bin', '../input/uppfpn-b7-c-bs48-e50/b7_224x320_model_fold3.bin', '../input/uppfpn-b7-c-bs48-e50/b7_224x320_model_fold4.bin', '../input/uppfpn-tb8-c-bs32-e30/fold0/tb8_224x320_model_fold0.bin', '../input/uppfpn-tb8-c-bs32-e30/fold1/tb8_224x320_model_fold1.bin', '../input/uppfpn-tb8-c-bs32-e30/fold2/tb8_224x320_model_fold2.bin', '../input/uppfpn-tb8-c-bs32-e30/fold3/tb8_224x320_model_fold3.bin', '../input/uppfpn-tb8-c-bs32-e30/fold4/tb8_224x320_model_fold4.bin']\n"
     ]
    }
   ],
   "source": [
    "test_dataset = BuildDataset(test_df, transforms=data_transforms['valid'])\n",
    "test_loader  = DataLoader(test_dataset, batch_size=CFG.valid_bs, drop_last =False,\n",
    "                          num_workers=4, shuffle=False, pin_memory=False)\n",
    "# model_paths  = glob(f'{CKPT_DIR}/*.bin')\n",
    "model_paths = []\n",
    "for ckpt_dir in CKPT_DIRS:\n",
    "    \n",
    "    if 'tb8' in ckpt_dir and 'scse' not in ckpt_dir:\n",
    "        model_path  = sorted(list(glob(f'{ckpt_dir}/*/*.bin')))\n",
    "    else:\n",
    "        model_path  = sorted(list(glob(f'{ckpt_dir}/*.bin')))\n",
    "    model_paths.extend(model_path)\n",
    "\n",
    "# model_paths.pop(-5)\n",
    "print(model_paths)"
   ]
  },
  {
   "cell_type": "code",
   "execution_count": 33,
   "id": "efc96a2c",
   "metadata": {
    "execution": {
     "iopub.execute_input": "2022-07-14T12:03:23.704758Z",
     "iopub.status.busy": "2022-07-14T12:03:23.703801Z",
     "iopub.status.idle": "2022-07-14T12:03:23.705494Z",
     "shell.execute_reply": "2022-07-14T12:03:23.706005Z",
     "shell.execute_reply.started": "2022-07-14T11:35:24.960306Z"
    },
    "papermill": {
     "duration": 0.764868,
     "end_time": "2022-07-14T12:03:23.706164",
     "exception": false,
     "start_time": "2022-07-14T12:03:22.941296",
     "status": "completed"
    },
    "tags": []
   },
   "outputs": [],
   "source": [
    "torch.cuda.empty_cache()"
   ]
  },
  {
   "cell_type": "code",
   "execution_count": 34,
   "id": "8e968748",
   "metadata": {
    "execution": {
     "iopub.execute_input": "2022-07-14T12:03:25.274669Z",
     "iopub.status.busy": "2022-07-14T12:03:25.273885Z",
     "iopub.status.idle": "2022-07-14T12:21:10.901444Z",
     "shell.execute_reply": "2022-07-14T12:21:10.899147Z",
     "shell.execute_reply.started": "2022-07-14T11:35:24.966611Z"
    },
    "papermill": {
     "duration": 1066.428051,
     "end_time": "2022-07-14T12:21:10.901668",
     "exception": false,
     "start_time": "2022-07-14T12:03:24.473617",
     "status": "completed"
    },
    "tags": []
   },
   "outputs": [
    {
     "name": "stderr",
     "output_type": "stream",
     "text": [
      "Infer : 100%|██████████| 13/13 [17:43<00:00, 81.84s/it]\n"
     ]
    }
   ],
   "source": [
    "pred_strings, pred_ids, pred_classes, imgs, msks = infer(model_paths, test_loader)"
   ]
  },
  {
   "cell_type": "code",
   "execution_count": 35,
   "id": "307d90e5",
   "metadata": {
    "_kg_hide-input": true,
    "execution": {
     "iopub.execute_input": "2022-07-14T12:21:12.645307Z",
     "iopub.status.busy": "2022-07-14T12:21:12.644074Z",
     "iopub.status.idle": "2022-07-14T12:21:14.529882Z",
     "shell.execute_reply": "2022-07-14T12:21:14.530334Z",
     "shell.execute_reply.started": "2022-07-14T11:52:09.632508Z"
    },
    "papermill": {
     "duration": 2.730109,
     "end_time": "2022-07-14T12:21:14.530497",
     "exception": false,
     "start_time": "2022-07-14T12:21:11.800388",
     "status": "completed"
    },
    "tags": []
   },
   "outputs": [
    {
     "data": {
      "image/png": "[encoded data removed]",
      "text/plain": [
       "<Figure size 864x504 with 3 Axes>"
      ]
     },
     "metadata": {
      "needs_background": "light"
     },
     "output_type": "display_data"
    },
    {
     "data": {
      "image/png": "[encoded data removed]",
      "text/plain": [
       "<Figure size 864x504 with 3 Axes>"
      ]
     },
     "metadata": {
      "needs_background": "light"
     },
     "output_type": "display_data"
    },
    {
     "data": {
      "image/png": "[encoded data removed]",
      "text/plain": [
       "<Figure size 864x504 with 3 Axes>"
      ]
     },
     "metadata": {
      "needs_background": "light"
     },
     "output_type": "display_data"
    },
    {
     "data": {
      "image/png": "[encoded data removed]",
      "text/plain": [
       "<Figure size 864x504 with 3 Axes>"
      ]
     },
     "metadata": {
      "needs_background": "light"
     },
     "output_type": "display_data"
    },
    {
     "data": {
      "image/png": "[encoded data removed]",
      "text/plain": [
       "<Figure size 864x504 with 3 Axes>"
      ]
     },
     "metadata": {
      "needs_background": "light"
     },
     "output_type": "display_data"
    }
   ],
   "source": [
    "for img, msk in zip(imgs[0][:5], msks[0][:5]):\n",
    "    plt.figure(figsize=(12, 7))\n",
    "    plt.subplot(1, 3, 1); plt.imshow(img, cmap='bone');\n",
    "    plt.axis('OFF'); plt.title('image')\n",
    "    plt.subplot(1, 3, 2); plt.imshow(msk*255); plt.axis('OFF'); plt.title('mask')\n",
    "    plt.subplot(1, 3, 3); plt.imshow(img, cmap='bone'); plt.imshow(msk*255, alpha=0.4);\n",
    "    plt.axis('OFF'); plt.title('overlay')\n",
    "    plt.tight_layout()\n",
    "    plt.show()"
   ]
  },
  {
   "cell_type": "code",
   "execution_count": 36,
   "id": "385ed35c",
   "metadata": {
    "execution": {
     "iopub.execute_input": "2022-07-14T12:21:16.437298Z",
     "iopub.status.busy": "2022-07-14T12:21:16.436472Z",
     "iopub.status.idle": "2022-07-14T12:21:16.439696Z",
     "shell.execute_reply": "2022-07-14T12:21:16.440168Z",
     "shell.execute_reply.started": "2022-07-14T11:52:11.561609Z"
    },
    "papermill": {
     "duration": 1.096933,
     "end_time": "2022-07-14T12:21:16.440346",
     "exception": false,
     "start_time": "2022-07-14T12:21:15.343413",
     "status": "completed"
    },
    "tags": []
   },
   "outputs": [
    {
     "data": {
      "text/plain": [
       "46624"
      ]
     },
     "execution_count": 36,
     "metadata": {},
     "output_type": "execute_result"
    }
   ],
   "source": [
    "del imgs, msks\n",
    "gc.collect()"
   ]
  },
  {
   "cell_type": "markdown",
   "id": "a875de45",
   "metadata": {
    "papermill": {
     "duration": 0.851309,
     "end_time": "2022-07-14T12:21:18.138035",
     "exception": false,
     "start_time": "2022-07-14T12:21:17.286726",
     "status": "completed"
    },
    "tags": []
   },
   "source": [
    "# 📝 Submission"
   ]
  },
  {
   "cell_type": "code",
   "execution_count": 37,
   "id": "32f50018",
   "metadata": {
    "_kg_hide-input": true,
    "execution": {
     "iopub.execute_input": "2022-07-14T12:21:19.817609Z",
     "iopub.status.busy": "2022-07-14T12:21:19.816916Z",
     "iopub.status.idle": "2022-07-14T12:21:20.357371Z",
     "shell.execute_reply": "2022-07-14T12:21:20.357908Z",
     "shell.execute_reply.started": "2022-07-14T11:52:11.802364Z"
    },
    "papermill": {
     "duration": 1.392551,
     "end_time": "2022-07-14T12:21:20.358093",
     "exception": false,
     "start_time": "2022-07-14T12:21:18.965542",
     "status": "completed"
    },
    "tags": []
   },
   "outputs": [
    {
     "data": {
      "text/html": [
       "<div>\n",
       "<style scoped>\n",
       "    .dataframe tbody tr th:only-of-type {\n",
       "        vertical-align: middle;\n",
       "    }\n",
       "\n",
       "    .dataframe tbody tr th {\n",
       "        vertical-align: top;\n",
       "    }\n",
       "\n",
       "    .dataframe thead th {\n",
       "        text-align: right;\n",
       "    }\n",
       "</style>\n",
       "<table border=\"1\" class=\"dataframe\">\n",
       "  <thead>\n",
       "    <tr style=\"text-align: right;\">\n",
       "      <th></th>\n",
       "      <th>id</th>\n",
       "      <th>class</th>\n",
       "      <th>predicted</th>\n",
       "    </tr>\n",
       "  </thead>\n",
       "  <tbody>\n",
       "    <tr>\n",
       "      <th>0</th>\n",
       "      <td>case123_day20_slice_0001</td>\n",
       "      <td>large_bowel</td>\n",
       "      <td></td>\n",
       "    </tr>\n",
       "    <tr>\n",
       "      <th>1</th>\n",
       "      <td>case123_day20_slice_0001</td>\n",
       "      <td>small_bowel</td>\n",
       "      <td></td>\n",
       "    </tr>\n",
       "    <tr>\n",
       "      <th>2</th>\n",
       "      <td>case123_day20_slice_0001</td>\n",
       "      <td>stomach</td>\n",
       "      <td></td>\n",
       "    </tr>\n",
       "    <tr>\n",
       "      <th>3</th>\n",
       "      <td>case123_day20_slice_0002</td>\n",
       "      <td>large_bowel</td>\n",
       "      <td></td>\n",
       "    </tr>\n",
       "    <tr>\n",
       "      <th>4</th>\n",
       "      <td>case123_day20_slice_0002</td>\n",
       "      <td>small_bowel</td>\n",
       "      <td></td>\n",
       "    </tr>\n",
       "  </tbody>\n",
       "</table>\n",
       "</div>"
      ],
      "text/plain": [
       "                         id        class predicted\n",
       "0  case123_day20_slice_0001  large_bowel          \n",
       "1  case123_day20_slice_0001  small_bowel          \n",
       "2  case123_day20_slice_0001      stomach          \n",
       "3  case123_day20_slice_0002  large_bowel          \n",
       "4  case123_day20_slice_0002  small_bowel          "
      ]
     },
     "metadata": {},
     "output_type": "display_data"
    }
   ],
   "source": [
    "pred_df = pd.DataFrame({\n",
    "    \"id\":pred_ids,\n",
    "    \"class\":pred_classes,\n",
    "    \"predicted\":pred_strings\n",
    "})\n",
    "if not debug:\n",
    "    sub_df = pd.read_csv('../input/uw-madison-gi-tract-image-segmentation/sample_submission.csv')\n",
    "    del sub_df['predicted']\n",
    "else:\n",
    "    sub_df = pd.read_csv('../input/uw-madison-gi-tract-image-segmentation/train.csv')[:1000*3]\n",
    "    del sub_df['segmentation']\n",
    "    \n",
    "sub_df = sub_df.merge(pred_df, on=['id','class'])\n",
    "sub_df.to_csv('submission.csv',index=False)\n",
    "display(sub_df.head(5))"
   ]
  },
  {
   "cell_type": "code",
   "execution_count": null,
   "id": "ff428371",
   "metadata": {
    "papermill": {
     "duration": 0.835607,
     "end_time": "2022-07-14T12:21:22.387021",
     "exception": false,
     "start_time": "2022-07-14T12:21:21.551414",
     "status": "completed"
    },
    "tags": []
   },
   "outputs": [],
   "source": []
  }
 ],
 "metadata": {
  "kernelspec": {
   "display_name": "Python 3 (ipykernel)",
   "language": "python",
   "name": "python3"
  },
  "language_info": {
   "codemirror_mode": {
    "name": "ipython",
    "version": 3
   },
   "file_extension": ".py",
   "mimetype": "text/x-python",
   "name": "python",
   "nbconvert_exporter": "python",
   "pygments_lexer": "ipython3",
   "version": "3.9.12"
  },
  "papermill": {
   "default_parameters": {},
   "duration": 1681.255508,
   "end_time": "2022-07-14T12:21:27.031163",
   "environment_variables": {},
   "exception": null,
   "input_path": "__notebook__.ipynb",
   "output_path": "__notebook__.ipynb",
   "parameters": {},
   "start_time": "2022-07-14T11:53:25.775655",
   "version": "2.3.3"
  }
 },
 "nbformat": 4,
 "nbformat_minor": 5
}
