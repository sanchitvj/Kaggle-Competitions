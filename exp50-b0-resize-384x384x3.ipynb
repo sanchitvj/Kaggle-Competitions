{
 "cells": [
  {
   "cell_type": "markdown",
   "id": "d2ad204e",
   "metadata": {
    "papermill": {
     "duration": 0.037743,
     "end_time": "2022-06-20T13:22:31.149081",
     "exception": false,
     "start_time": "2022-06-20T13:22:31.111338",
     "status": "completed"
    },
    "tags": []
   },
   "source": [
    "# 📒 Notebooks\n",
    "📌 **2.5D**:\n",
    "* Train: [UWMGI: 2.5D [Train] [PyTorch]](https://www.kaggle.com/awsaf49/uwmgi-2-5d-train-pytorch/)\n",
    "* Infer: [UWMGI: 2.5D [Infer] [PyTorch]](https://www.kaggle.com/awsaf49/uwmgi-2-5d-infer-pytorch/)\n",
    "* Data: [UWMGI: 2.5D stride=2 Data](https://www.kaggle.com/code/awsaf49/uwmgi-2-5d-stride-2-data/)\n",
    "\n",
    "📌 **UNet**:\n",
    "* Train: [UWMGI: Unet [Train] [PyTorch]](https://www.kaggle.com/code/awsaf49/uwmgi-unet-train-pytorch/)\n",
    "* Infer: [UWMGI: Unet [Infer] [PyTorch]](https://www.kaggle.com/code/awsaf49/uwmgi-unet-infer-pytorch/)\n",
    "\n",
    "📌 **MMDetection**:\n",
    "* Train: [UWMGI: MMDetection [Train]](https://www.kaggle.com/code/awsaf49/uwmgi-mmdetection-train)\n",
    "\n",
    "📌 **Data/Dataset**:\n",
    "* Data: [UWMGI: Mask Data](https://www.kaggle.com/datasets/awsaf49/uwmgi-mask-data)\n",
    "* Dataset: [UWMGI: Mask Dataset](https://www.kaggle.com/datasets/awsaf49/uwmgi-mask-dataset)"
   ]
  },
  {
   "cell_type": "code",
   "execution_count": 1,
   "id": "42c41138",
   "metadata": {
    "_kg_hide-input": true,
    "_kg_hide-output": true,
    "execution": {
     "iopub.execute_input": "2022-06-20T13:22:31.231503Z",
     "iopub.status.busy": "2022-06-20T13:22:31.230660Z",
     "iopub.status.idle": "2022-06-20T13:24:54.771134Z",
     "shell.execute_reply": "2022-06-20T13:24:54.771582Z",
     "shell.execute_reply.started": "2022-06-20T12:47:28.164164Z"
    },
    "papermill": {
     "duration": 143.581046,
     "end_time": "2022-06-20T13:24:54.771947",
     "exception": false,
     "start_time": "2022-06-20T13:22:31.190901",
     "status": "completed"
    },
    "tags": []
   },
   "outputs": [
    {
     "name": "stdout",
     "output_type": "stream",
     "text": [
      "\u001b[33m  DEPRECATION: A future pip version will change local packages to be built in-place without first copying to a temporary directory. We recommend you use --use-feature=in-tree-build to test your packages with this new behavior before it becomes the default.\r\n",
      "   pip 21.3 will remove support for this functionality. You can find discussion regarding this at https://github.com/pypa/pip/issues/7555.\u001b[0m\r\n",
      "\u001b[33mWARNING: Running pip as the 'root' user can result in broken permissions and conflicting behaviour with the system package manager. It is recommended to use a virtual environment instead: https://pip.pypa.io/warnings/venv\u001b[0m\r\n",
      "\u001b[33m  DEPRECATION: A future pip version will change local packages to be built in-place without first copying to a temporary directory. We recommend you use --use-feature=in-tree-build to test your packages with this new behavior before it becomes the default.\r\n",
      "   pip 21.3 will remove support for this functionality. You can find discussion regarding this at https://github.com/pypa/pip/issues/7555.\u001b[0m\r\n",
      "\u001b[33mWARNING: Running pip as the 'root' user can result in broken permissions and conflicting behaviour with the system package manager. It is recommended to use a virtual environment instead: https://pip.pypa.io/warnings/venv\u001b[0m\r\n",
      "\u001b[33mWARNING: Running pip as the 'root' user can result in broken permissions and conflicting behaviour with the system package manager. It is recommended to use a virtual environment instead: https://pip.pypa.io/warnings/venv\u001b[0m\r\n",
      "\u001b[33mWARNING: Running pip as the 'root' user can result in broken permissions and conflicting behaviour with the system package manager. It is recommended to use a virtual environment instead: https://pip.pypa.io/warnings/venv\u001b[0m\r\n",
      "\u001b[33m  DEPRECATION: A future pip version will change local packages to be built in-place without first copying to a temporary directory. We recommend you use --use-feature=in-tree-build to test your packages with this new behavior before it becomes the default.\r\n",
      "   pip 21.3 will remove support for this functionality. You can find discussion regarding this at https://github.com/pypa/pip/issues/7555.\u001b[0m\r\n",
      "\u001b[33mWARNING: Running pip as the 'root' user can result in broken permissions and conflicting behaviour with the system package manager. It is recommended to use a virtual environment instead: https://pip.pypa.io/warnings/venv\u001b[0m\r\n"
     ]
    }
   ],
   "source": [
    "!pip install -q ../input/pytorch-segmentation-models-lib/pretrainedmodels-0.7.4/pretrainedmodels-0.7.4\n",
    "!pip install -q ../input/pytorch-segmentation-models-lib/efficientnet_pytorch-0.6.3/efficientnet_pytorch-0.6.3\n",
    "!pip install -q ../input/pytorch-segmentation-models-lib/timm-0.4.12-py3-none-any.whl\n",
    "!pip install -q ../input/pytorch-segmentation-models-lib/segmentation_models_pytorch-0.2.0-py3-none-any.whl\n",
    "!pip install -q ../input/ttachseg/ttach-master"
   ]
  },
  {
   "cell_type": "code",
   "execution_count": 2,
   "id": "dc2a0012",
   "metadata": {
    "execution": {
     "iopub.execute_input": "2022-06-20T13:24:54.827105Z",
     "iopub.status.busy": "2022-06-20T13:24:54.826414Z",
     "iopub.status.idle": "2022-06-20T13:24:54.829305Z",
     "shell.execute_reply": "2022-06-20T13:24:54.828636Z",
     "shell.execute_reply.started": "2022-06-20T12:49:51.280097Z"
    },
    "papermill": {
     "duration": 0.03195,
     "end_time": "2022-06-20T13:24:54.829447",
     "exception": false,
     "start_time": "2022-06-20T13:24:54.797497",
     "status": "completed"
    },
    "tags": []
   },
   "outputs": [],
   "source": [
    "# !pip install -q ../input/smp-1-1-whl/segmentation_models_pytorch-1.1-py2.py3-none-any.whl\n",
    "# !pip install -q ../input/smp-lib/segmentation_models.pytorch"
   ]
  },
  {
   "cell_type": "code",
   "execution_count": 3,
   "id": "d4ca99c1",
   "metadata": {
    "_kg_hide-input": true,
    "execution": {
     "iopub.execute_input": "2022-06-20T13:24:54.889242Z",
     "iopub.status.busy": "2022-06-20T13:24:54.888386Z",
     "iopub.status.idle": "2022-06-20T13:25:04.086599Z",
     "shell.execute_reply": "2022-06-20T13:25:04.087078Z",
     "shell.execute_reply.started": "2022-06-20T12:49:51.285668Z"
    },
    "papermill": {
     "duration": 9.23183,
     "end_time": "2022-06-20T13:25:04.087266",
     "exception": false,
     "start_time": "2022-06-20T13:24:54.855436",
     "status": "completed"
    },
    "tags": []
   },
   "outputs": [],
   "source": [
    "import numpy as np\n",
    "import pandas as pd\n",
    "pd.options.plotting.backend = \"plotly\"\n",
    "import random\n",
    "from glob import glob\n",
    "import os, shutil\n",
    "from tqdm import tqdm\n",
    "tqdm.pandas()\n",
    "import time\n",
    "import copy\n",
    "import joblib\n",
    "from collections import defaultdict\n",
    "import gc\n",
    "from IPython import display as ipd\n",
    "\n",
    "# visualization\n",
    "import cv2\n",
    "import matplotlib.pyplot as plt\n",
    "\n",
    "# Sklearn\n",
    "from sklearn.model_selection import StratifiedKFold, KFold\n",
    "\n",
    "# PyTorch \n",
    "import torch\n",
    "import torch.nn as nn\n",
    "import torch.optim as optim\n",
    "from torch.optim import lr_scheduler\n",
    "from torch.utils.data import Dataset, DataLoader\n",
    "from torch.cuda import amp\n",
    "import torch.nn.functional as F\n",
    "\n",
    "import timm\n",
    "import ttach as tta\n",
    "# Albumentations for augmentations\n",
    "import albumentations as A\n",
    "from albumentations.pytorch import ToTensorV2\n",
    "\n",
    "# For colored terminal text\n",
    "from colorama import Fore, Back, Style\n",
    "c_  = Fore.GREEN\n",
    "sr_ = Style.RESET_ALL\n",
    "\n",
    "import warnings\n",
    "warnings.filterwarnings(\"ignore\")\n",
    "\n",
    "# For descriptive error messages\n",
    "os.environ['CUDA_LAUNCH_BLOCKING'] = \"1\""
   ]
  },
  {
   "cell_type": "markdown",
   "id": "4b3c53a8",
   "metadata": {
    "papermill": {
     "duration": 0.028358,
     "end_time": "2022-06-20T13:25:04.145861",
     "exception": false,
     "start_time": "2022-06-20T13:25:04.117503",
     "status": "completed"
    },
    "tags": []
   },
   "source": [
    "# ⚙️ Configuration "
   ]
  },
  {
   "cell_type": "code",
   "execution_count": 4,
   "id": "51c323d9",
   "metadata": {
    "_kg_hide-input": true,
    "execution": {
     "iopub.execute_input": "2022-06-20T13:25:04.211729Z",
     "iopub.status.busy": "2022-06-20T13:25:04.211084Z",
     "iopub.status.idle": "2022-06-20T13:25:04.280020Z",
     "shell.execute_reply": "2022-06-20T13:25:04.279434Z",
     "shell.execute_reply.started": "2022-06-20T12:50:00.367361Z"
    },
    "papermill": {
     "duration": 0.105253,
     "end_time": "2022-06-20T13:25:04.280159",
     "exception": false,
     "start_time": "2022-06-20T13:25:04.174906",
     "status": "completed"
    },
    "tags": []
   },
   "outputs": [],
   "source": [
    "BASE_PATH  = '/kaggle/input/uw-madison-gi-tract-image-segmentation'\n",
    "\n",
    "class CFG:\n",
    "    seed          = 111 # 1026 # \n",
    "    model_name    = 'Unet Plus FPN'\n",
    "    bb_path       = [\"../input/b0-wtfile/efficientnet-b7-dcc49843.pth\", \"../input/b0-wtfile/tf_efficientnet_b0_ns-c0e6a31c.pth\"]\n",
    "    weights       = [\"imagenet\", 'noisy-student']\n",
    "    backbone      = {'b7':'efficientnet-b7', 'b8':'tu-efficientnet_b8', 'v2l':'timm-efficientnetv2-l-in21ft1k', 'b0':'efficientnet-b0', 'rnx50':'resnext50_32x4d',\n",
    "                     'rns2e':'timm-resnest200e', 'tb0':'timm-efficientnet-b0', 'rns50':'timm-resnest50d'} #, 'se_resnext101_32x4d']\n",
    "    train_bs      = 16 # {'b7':32, 'b5':64}\n",
    "    valid_bs      = train_bs * 2 # {'b7':64, 'b5':128}\n",
    "    img_size      = [384, 384] # [384, 448] #[448, 512]\n",
    "    attention     = None # 'cbam' # 'scse'\n",
    "    num_classes   = 3\n",
    "    thr           = 0.37\n",
    "    alpha         = [1.4, 0.6, 1] #1.4, 0.6\n",
    "    tta           = False\n",
    "    num_slices    = 3\n",
    "    shared_enc    = False\n",
    "    device        = torch.device(\"cuda:0\" if torch.cuda.is_available() else \"cpu\")\n",
    "    \n",
    "CKPT_DIRS = [\"../input/u-b0-384-bs128-e20-r\"] #[\"../input/uppfpn-b7-d1-bs32-e20\"]#, \"../input/ufpn-b7-d1-bs32-e20\"] # \n",
    "#['../input/upp-b7-d1-bs32-e20-dice']#, '../input/u-b7-320x384-bs32-e20', '../input/upp-b7-d1-bs32-e20']"
   ]
  },
  {
   "cell_type": "markdown",
   "id": "e01dc0ef",
   "metadata": {
    "papermill": {
     "duration": 0.028078,
     "end_time": "2022-06-20T13:25:04.336772",
     "exception": false,
     "start_time": "2022-06-20T13:25:04.308694",
     "status": "completed"
    },
    "tags": []
   },
   "source": [
    "# ❗ Reproducibility"
   ]
  },
  {
   "cell_type": "code",
   "execution_count": 5,
   "id": "180969ac",
   "metadata": {
    "_kg_hide-input": true,
    "execution": {
     "iopub.execute_input": "2022-06-20T13:25:04.399128Z",
     "iopub.status.busy": "2022-06-20T13:25:04.398507Z",
     "iopub.status.idle": "2022-06-20T13:25:04.406053Z",
     "shell.execute_reply": "2022-06-20T13:25:04.406519Z",
     "shell.execute_reply.started": "2022-06-20T12:50:00.434370Z"
    },
    "papermill": {
     "duration": 0.042548,
     "end_time": "2022-06-20T13:25:04.406656",
     "exception": false,
     "start_time": "2022-06-20T13:25:04.364108",
     "status": "completed"
    },
    "tags": []
   },
   "outputs": [
    {
     "name": "stdout",
     "output_type": "stream",
     "text": [
      "> SEEDING DONE\n"
     ]
    }
   ],
   "source": [
    "def set_seed(seed = 42):\n",
    "    '''Sets the seed of the entire notebook so results are the same every time we run.\n",
    "    This is for REPRODUCIBILITY.'''\n",
    "    np.random.seed(seed)\n",
    "    random.seed(seed)\n",
    "    torch.manual_seed(seed)\n",
    "    torch.cuda.manual_seed(seed)\n",
    "    # When running on the CuDNN backend, two further options must be set\n",
    "    torch.backends.cudnn.deterministic = True\n",
    "    torch.backends.cudnn.benchmark = False\n",
    "    # Set a fixed value for the hash seed\n",
    "    os.environ['PYTHONHASHSEED'] = str(seed)\n",
    "    print('> SEEDING DONE')\n",
    "    \n",
    "set_seed(CFG.seed)"
   ]
  },
  {
   "cell_type": "markdown",
   "id": "c12d9a5b",
   "metadata": {
    "papermill": {
     "duration": 0.027954,
     "end_time": "2022-06-20T13:25:04.463162",
     "exception": false,
     "start_time": "2022-06-20T13:25:04.435208",
     "status": "completed"
    },
    "tags": []
   },
   "source": [
    "# 🔨 Utility"
   ]
  },
  {
   "cell_type": "code",
   "execution_count": 6,
   "id": "34e2f502",
   "metadata": {
    "_kg_hide-input": true,
    "execution": {
     "iopub.execute_input": "2022-06-20T13:25:04.532691Z",
     "iopub.status.busy": "2022-06-20T13:25:04.532087Z",
     "iopub.status.idle": "2022-06-20T13:25:04.536601Z",
     "shell.execute_reply": "2022-06-20T13:25:04.536055Z",
     "shell.execute_reply.started": "2022-06-20T12:50:00.446818Z"
    },
    "papermill": {
     "duration": 0.044317,
     "end_time": "2022-06-20T13:25:04.536734",
     "exception": false,
     "start_time": "2022-06-20T13:25:04.492417",
     "status": "completed"
    },
    "tags": []
   },
   "outputs": [],
   "source": [
    "def get_metadata(row):\n",
    "    data = row['id'].split('_')\n",
    "    case = int(data[0].replace('case',''))\n",
    "    day = int(data[1].replace('day',''))\n",
    "    slice_ = int(data[-1])\n",
    "    row['case'] = case\n",
    "    row['day'] = day\n",
    "    row['slice'] = slice_\n",
    "    return row\n",
    "\n",
    "def path2info(row):\n",
    "    path = row['image_path']\n",
    "    data = path.split('/')\n",
    "    slice_ = int(data[-1].split('_')[1])\n",
    "    case = int(data[-3].split('_')[0].replace('case',''))\n",
    "    day = int(data[-3].split('_')[1].replace('day',''))\n",
    "    width = int(data[-1].split('_')[2])\n",
    "    height = int(data[-1].split('_')[3])\n",
    "    row['height'] = height\n",
    "    row['width'] = width\n",
    "    row['case'] = case\n",
    "    row['day'] = day\n",
    "    row['slice'] = slice_\n",
    "#     row['id'] = f'case{case}_day{day}_slice_{slice_}'\n",
    "    return row"
   ]
  },
  {
   "cell_type": "code",
   "execution_count": 7,
   "id": "4e417bd3",
   "metadata": {
    "_kg_hide-input": true,
    "execution": {
     "iopub.execute_input": "2022-06-20T13:25:04.618690Z",
     "iopub.status.busy": "2022-06-20T13:25:04.618005Z",
     "iopub.status.idle": "2022-06-20T13:25:04.622420Z",
     "shell.execute_reply": "2022-06-20T13:25:04.621961Z",
     "shell.execute_reply.started": "2022-06-20T12:50:00.459616Z"
    },
    "papermill": {
     "duration": 0.051707,
     "end_time": "2022-06-20T13:25:04.622567",
     "exception": false,
     "start_time": "2022-06-20T13:25:04.570860",
     "status": "completed"
    },
    "tags": []
   },
   "outputs": [],
   "source": [
    "def load_img(path, size=CFG.img_size):\n",
    "    img = cv2.imread(path, cv2.IMREAD_UNCHANGED)\n",
    "    shape0 = np.array(img.shape[:2])\n",
    "    \n",
    "    img = cv2.resize(img, dsize=(size[1],size[0]), interpolation=cv2.INTER_NEAREST)\n",
    "\n",
    "#     resize = np.array(size)\n",
    "#     if np.any(shape0!=resize):\n",
    "#         diff = resize - shape0\n",
    "#         pad0 = diff[0]\n",
    "#         pad1 = diff[1]\n",
    "#         pady = [pad0//2, pad0//2 + pad0%2]\n",
    "#         padx = [pad1//2, pad1//2 + pad1%2]\n",
    "#         img = np.pad(img, [pady, padx])\n",
    "#         img = img.reshape((*resize))\n",
    "        \n",
    "    return img, shape0\n",
    "\n",
    "def load_imgs(img_paths, size=CFG.img_size):\n",
    "    imgs = np.zeros((*size, len(img_paths)), dtype=np.float32)\n",
    "    for i, img_path in enumerate(img_paths):\n",
    "        if i==0:\n",
    "            img, shape0 = load_img(img_path, size=size)\n",
    "        else:\n",
    "            img, _ = load_img(img_path, size=size)\n",
    "        img = img.astype('float32') # original is uint16\n",
    "        mx = np.max(img)\n",
    "        if mx:\n",
    "            img/=mx # scale image to [0, 1]\n",
    "        imgs[..., i]+=img\n",
    "    return imgs, shape0\n",
    "\n",
    "def load_msk(path, size=CFG.img_size):\n",
    "    msk = np.load(path)\n",
    "    \n",
    "    msk = cv2.resize(msk, dsize=(size[1],size[0]), interpolation=cv2.INTER_NEAREST)\n",
    "    \n",
    "#     shape0 = np.array(msk.shape[:2])\n",
    "#     resize = np.array(size)\n",
    "#     if np.any(shape0!=resize):\n",
    "#         diff = resize - shape0\n",
    "#         pad0 = diff[0]\n",
    "#         pad1 = diff[1]\n",
    "#         pady = [pad0//2, pad0//2 + pad0%2]\n",
    "#         padx = [pad1//2, pad1//2 + pad1%2]\n",
    "#         msk = np.pad(msk, [pady, padx, [0,0]])\n",
    "#         msk = msk.reshape((*resize, 3))\n",
    "    \n",
    "    msk = msk.astype('float32')\n",
    "    msk/=255.0\n",
    "    return msk\n",
    "\n",
    "def show_img(img, mask=None):\n",
    "    clahe = cv2.createCLAHE(clipLimit=2.0, tileGridSize=(8,8))\n",
    "    img = clahe.apply(img)\n",
    "    plt.imshow(img, cmap='bone')\n",
    "    \n",
    "    if mask is not None:\n",
    "        # plt.imshow(np.ma.masked_where(mask!=1, mask), alpha=0.5, cmap='autumn')\n",
    "        plt.imshow(mask, alpha=0.5)\n",
    "        handles = [Rectangle((0,0),1,1, color=_c) for _c in [(0.667,0.0,0.0), (0.0,0.667,0.0), (0.0,0.0,0.667)]]\n",
    "        labels = [\"Large Bowel\", \"Small Bowel\", \"Stomach\"]\n",
    "        plt.legend(handles,labels)\n",
    "    plt.axis('off')"
   ]
  },
  {
   "cell_type": "code",
   "execution_count": 8,
   "id": "fc056cab",
   "metadata": {
    "_kg_hide-input": true,
    "execution": {
     "iopub.execute_input": "2022-06-20T13:25:04.688717Z",
     "iopub.status.busy": "2022-06-20T13:25:04.688134Z",
     "iopub.status.idle": "2022-06-20T13:25:04.692134Z",
     "shell.execute_reply": "2022-06-20T13:25:04.691512Z",
     "shell.execute_reply.started": "2022-06-20T12:50:00.476449Z"
    },
    "papermill": {
     "duration": 0.040975,
     "end_time": "2022-06-20T13:25:04.692269",
     "exception": false,
     "start_time": "2022-06-20T13:25:04.651294",
     "status": "completed"
    },
    "tags": []
   },
   "outputs": [],
   "source": [
    "# ref: https://www.kaggle.com/paulorzp/run-length-encode-and-decode\n",
    "def rle_decode(mask_rle, shape):\n",
    "    '''\n",
    "    mask_rle: run-length as string formated (start length)\n",
    "    shape: (height,width) of array to return \n",
    "    Returns numpy array, 1 - mask, 0 - background\n",
    "\n",
    "    '''\n",
    "    s = mask_rle.split()\n",
    "    starts, lengths = [np.asarray(x, dtype=int) for x in (s[0:][::2], s[1:][::2])]\n",
    "    starts -= 1\n",
    "    ends = starts + lengths\n",
    "    img = np.zeros(shape[0]*shape[1], dtype=np.uint8)\n",
    "    for lo, hi in zip(starts, ends):\n",
    "        img[lo:hi] = 1\n",
    "    return img.reshape(shape)  # Needed to align to RLE direction\n",
    "\n",
    "\n",
    "# ref.: https://www.kaggle.com/stainsby/fast-tested-rle\n",
    "def rle_encode(img):\n",
    "    '''\n",
    "    img: numpy array, 1 - mask, 0 - background\n",
    "    Returns run length as string formated\n",
    "    '''\n",
    "    pixels = img.flatten()\n",
    "    pixels = np.concatenate([[0], pixels, [0]])\n",
    "    runs = np.where(pixels[1:] != pixels[:-1])[0] + 1\n",
    "    runs[1::2] -= runs[::2]\n",
    "    return ' '.join(str(x) for x in runs)"
   ]
  },
  {
   "cell_type": "markdown",
   "id": "1c33a9d9",
   "metadata": {
    "papermill": {
     "duration": 0.027953,
     "end_time": "2022-06-20T13:25:04.748596",
     "exception": false,
     "start_time": "2022-06-20T13:25:04.720643",
     "status": "completed"
    },
    "tags": []
   },
   "source": [
    "## Test"
   ]
  },
  {
   "cell_type": "code",
   "execution_count": 9,
   "id": "f9996a16",
   "metadata": {
    "execution": {
     "iopub.execute_input": "2022-06-20T13:25:04.811975Z",
     "iopub.status.busy": "2022-06-20T13:25:04.811217Z",
     "iopub.status.idle": "2022-06-20T13:25:06.736297Z",
     "shell.execute_reply": "2022-06-20T13:25:06.736912Z",
     "shell.execute_reply.started": "2022-06-20T12:50:00.489943Z"
    },
    "papermill": {
     "duration": 1.960712,
     "end_time": "2022-06-20T13:25:06.737120",
     "exception": false,
     "start_time": "2022-06-20T13:25:04.776408",
     "status": "completed"
    },
    "tags": []
   },
   "outputs": [
    {
     "name": "stderr",
     "output_type": "stream",
     "text": [
      "100%|██████████| 1000/1000 [00:01<00:00, 703.74it/s]\n"
     ]
    }
   ],
   "source": [
    "sub_df = pd.read_csv('../input/uw-madison-gi-tract-image-segmentation/sample_submission.csv')\n",
    "if not len(sub_df):\n",
    "    debug = True\n",
    "    sub_df = pd.read_csv('../input/uw-madison-gi-tract-image-segmentation/train.csv')[:1000*3]\n",
    "    sub_df = sub_df.drop(columns=['class','segmentation']).drop_duplicates()\n",
    "else:\n",
    "    debug = False\n",
    "    sub_df = sub_df.drop(columns=['class','predicted']).drop_duplicates()\n",
    "sub_df = sub_df.progress_apply(get_metadata,axis=1)"
   ]
  },
  {
   "cell_type": "code",
   "execution_count": 10,
   "id": "2f7bacab",
   "metadata": {
    "execution": {
     "iopub.execute_input": "2022-06-20T13:25:06.801624Z",
     "iopub.status.busy": "2022-06-20T13:25:06.801002Z",
     "iopub.status.idle": "2022-06-20T13:26:46.032752Z",
     "shell.execute_reply": "2022-06-20T13:26:46.032098Z",
     "shell.execute_reply.started": "2022-06-20T12:50:02.450937Z"
    },
    "papermill": {
     "duration": 99.265518,
     "end_time": "2022-06-20T13:26:46.032922",
     "exception": false,
     "start_time": "2022-06-20T13:25:06.767404",
     "status": "completed"
    },
    "tags": []
   },
   "outputs": [
    {
     "name": "stderr",
     "output_type": "stream",
     "text": [
      "100%|██████████| 38496/38496 [01:35<00:00, 405.20it/s]\n"
     ]
    },
    {
     "data": {
      "text/html": [
       "<div>\n",
       "<style scoped>\n",
       "    .dataframe tbody tr th:only-of-type {\n",
       "        vertical-align: middle;\n",
       "    }\n",
       "\n",
       "    .dataframe tbody tr th {\n",
       "        vertical-align: top;\n",
       "    }\n",
       "\n",
       "    .dataframe thead th {\n",
       "        text-align: right;\n",
       "    }\n",
       "</style>\n",
       "<table border=\"1\" class=\"dataframe\">\n",
       "  <thead>\n",
       "    <tr style=\"text-align: right;\">\n",
       "      <th></th>\n",
       "      <th>image_path</th>\n",
       "      <th>height</th>\n",
       "      <th>width</th>\n",
       "      <th>case</th>\n",
       "      <th>day</th>\n",
       "      <th>slice</th>\n",
       "    </tr>\n",
       "  </thead>\n",
       "  <tbody>\n",
       "    <tr>\n",
       "      <th>0</th>\n",
       "      <td>/kaggle/input/uw-madison-gi-tract-image-segmen...</td>\n",
       "      <td>266</td>\n",
       "      <td>266</td>\n",
       "      <td>36</td>\n",
       "      <td>14</td>\n",
       "      <td>6</td>\n",
       "    </tr>\n",
       "    <tr>\n",
       "      <th>1</th>\n",
       "      <td>/kaggle/input/uw-madison-gi-tract-image-segmen...</td>\n",
       "      <td>266</td>\n",
       "      <td>266</td>\n",
       "      <td>36</td>\n",
       "      <td>14</td>\n",
       "      <td>82</td>\n",
       "    </tr>\n",
       "    <tr>\n",
       "      <th>2</th>\n",
       "      <td>/kaggle/input/uw-madison-gi-tract-image-segmen...</td>\n",
       "      <td>266</td>\n",
       "      <td>266</td>\n",
       "      <td>36</td>\n",
       "      <td>14</td>\n",
       "      <td>113</td>\n",
       "    </tr>\n",
       "    <tr>\n",
       "      <th>3</th>\n",
       "      <td>/kaggle/input/uw-madison-gi-tract-image-segmen...</td>\n",
       "      <td>266</td>\n",
       "      <td>266</td>\n",
       "      <td>36</td>\n",
       "      <td>14</td>\n",
       "      <td>76</td>\n",
       "    </tr>\n",
       "    <tr>\n",
       "      <th>4</th>\n",
       "      <td>/kaggle/input/uw-madison-gi-tract-image-segmen...</td>\n",
       "      <td>266</td>\n",
       "      <td>266</td>\n",
       "      <td>36</td>\n",
       "      <td>14</td>\n",
       "      <td>125</td>\n",
       "    </tr>\n",
       "  </tbody>\n",
       "</table>\n",
       "</div>"
      ],
      "text/plain": [
       "                                          image_path  height  width  case  \\\n",
       "0  /kaggle/input/uw-madison-gi-tract-image-segmen...     266    266    36   \n",
       "1  /kaggle/input/uw-madison-gi-tract-image-segmen...     266    266    36   \n",
       "2  /kaggle/input/uw-madison-gi-tract-image-segmen...     266    266    36   \n",
       "3  /kaggle/input/uw-madison-gi-tract-image-segmen...     266    266    36   \n",
       "4  /kaggle/input/uw-madison-gi-tract-image-segmen...     266    266    36   \n",
       "\n",
       "   day  slice  \n",
       "0   14      6  \n",
       "1   14     82  \n",
       "2   14    113  \n",
       "3   14     76  \n",
       "4   14    125  "
      ]
     },
     "execution_count": 10,
     "metadata": {},
     "output_type": "execute_result"
    }
   ],
   "source": [
    "if debug:\n",
    "    paths = glob(f'/kaggle/input/uw-madison-gi-tract-image-segmentation/train/**/*png',recursive=True)\n",
    "#     paths = sorted(paths)\n",
    "else:\n",
    "    paths = glob(f'/kaggle/input/uw-madison-gi-tract-image-segmentation/test/**/*png',recursive=True)\n",
    "#     paths = sorted(paths)\n",
    "path_df = pd.DataFrame(paths, columns=['image_path'])\n",
    "path_df = path_df.progress_apply(path2info, axis=1)\n",
    "path_df.head()"
   ]
  },
  {
   "cell_type": "code",
   "execution_count": 11,
   "id": "d20872b7",
   "metadata": {
    "execution": {
     "iopub.execute_input": "2022-06-20T13:26:46.800412Z",
     "iopub.status.busy": "2022-06-20T13:26:46.799566Z",
     "iopub.status.idle": "2022-06-20T13:26:46.822797Z",
     "shell.execute_reply": "2022-06-20T13:26:46.822351Z",
     "shell.execute_reply.started": "2022-06-20T12:51:43.630028Z"
    },
    "papermill": {
     "duration": 0.406135,
     "end_time": "2022-06-20T13:26:46.822922",
     "exception": false,
     "start_time": "2022-06-20T13:26:46.416787",
     "status": "completed"
    },
    "tags": []
   },
   "outputs": [
    {
     "data": {
      "text/html": [
       "<div>\n",
       "<style scoped>\n",
       "    .dataframe tbody tr th:only-of-type {\n",
       "        vertical-align: middle;\n",
       "    }\n",
       "\n",
       "    .dataframe tbody tr th {\n",
       "        vertical-align: top;\n",
       "    }\n",
       "\n",
       "    .dataframe thead th {\n",
       "        text-align: right;\n",
       "    }\n",
       "</style>\n",
       "<table border=\"1\" class=\"dataframe\">\n",
       "  <thead>\n",
       "    <tr style=\"text-align: right;\">\n",
       "      <th></th>\n",
       "      <th>id</th>\n",
       "      <th>case</th>\n",
       "      <th>day</th>\n",
       "      <th>slice</th>\n",
       "      <th>image_path</th>\n",
       "      <th>height</th>\n",
       "      <th>width</th>\n",
       "    </tr>\n",
       "  </thead>\n",
       "  <tbody>\n",
       "    <tr>\n",
       "      <th>0</th>\n",
       "      <td>case123_day20_slice_0001</td>\n",
       "      <td>123</td>\n",
       "      <td>20</td>\n",
       "      <td>1</td>\n",
       "      <td>/kaggle/input/uw-madison-gi-tract-image-segmen...</td>\n",
       "      <td>266</td>\n",
       "      <td>266</td>\n",
       "    </tr>\n",
       "    <tr>\n",
       "      <th>1</th>\n",
       "      <td>case123_day20_slice_0002</td>\n",
       "      <td>123</td>\n",
       "      <td>20</td>\n",
       "      <td>2</td>\n",
       "      <td>/kaggle/input/uw-madison-gi-tract-image-segmen...</td>\n",
       "      <td>266</td>\n",
       "      <td>266</td>\n",
       "    </tr>\n",
       "    <tr>\n",
       "      <th>2</th>\n",
       "      <td>case123_day20_slice_0003</td>\n",
       "      <td>123</td>\n",
       "      <td>20</td>\n",
       "      <td>3</td>\n",
       "      <td>/kaggle/input/uw-madison-gi-tract-image-segmen...</td>\n",
       "      <td>266</td>\n",
       "      <td>266</td>\n",
       "    </tr>\n",
       "    <tr>\n",
       "      <th>3</th>\n",
       "      <td>case123_day20_slice_0004</td>\n",
       "      <td>123</td>\n",
       "      <td>20</td>\n",
       "      <td>4</td>\n",
       "      <td>/kaggle/input/uw-madison-gi-tract-image-segmen...</td>\n",
       "      <td>266</td>\n",
       "      <td>266</td>\n",
       "    </tr>\n",
       "    <tr>\n",
       "      <th>4</th>\n",
       "      <td>case123_day20_slice_0005</td>\n",
       "      <td>123</td>\n",
       "      <td>20</td>\n",
       "      <td>5</td>\n",
       "      <td>/kaggle/input/uw-madison-gi-tract-image-segmen...</td>\n",
       "      <td>266</td>\n",
       "      <td>266</td>\n",
       "    </tr>\n",
       "  </tbody>\n",
       "</table>\n",
       "</div>"
      ],
      "text/plain": [
       "                         id  case  day  slice  \\\n",
       "0  case123_day20_slice_0001   123   20      1   \n",
       "1  case123_day20_slice_0002   123   20      2   \n",
       "2  case123_day20_slice_0003   123   20      3   \n",
       "3  case123_day20_slice_0004   123   20      4   \n",
       "4  case123_day20_slice_0005   123   20      5   \n",
       "\n",
       "                                          image_path  height  width  \n",
       "0  /kaggle/input/uw-madison-gi-tract-image-segmen...     266    266  \n",
       "1  /kaggle/input/uw-madison-gi-tract-image-segmen...     266    266  \n",
       "2  /kaggle/input/uw-madison-gi-tract-image-segmen...     266    266  \n",
       "3  /kaggle/input/uw-madison-gi-tract-image-segmen...     266    266  \n",
       "4  /kaggle/input/uw-madison-gi-tract-image-segmen...     266    266  "
      ]
     },
     "execution_count": 11,
     "metadata": {},
     "output_type": "execute_result"
    }
   ],
   "source": [
    "test_df = sub_df.merge(path_df, on=['case','day','slice'], how='left')\n",
    "test_df.head()"
   ]
  },
  {
   "cell_type": "markdown",
   "id": "987e11ee",
   "metadata": {
    "papermill": {
     "duration": 0.256669,
     "end_time": "2022-06-20T13:26:47.337497",
     "exception": false,
     "start_time": "2022-06-20T13:26:47.080828",
     "status": "completed"
    },
    "tags": []
   },
   "source": [
    "# Create 2.5D MetaData"
   ]
  },
  {
   "cell_type": "code",
   "execution_count": 12,
   "id": "1b7b3a51",
   "metadata": {
    "execution": {
     "iopub.execute_input": "2022-06-20T13:26:47.858836Z",
     "iopub.status.busy": "2022-06-20T13:26:47.858234Z",
     "iopub.status.idle": "2022-06-20T13:26:47.873738Z",
     "shell.execute_reply": "2022-06-20T13:26:47.874153Z",
     "shell.execute_reply.started": "2022-06-20T12:51:43.660687Z"
    },
    "papermill": {
     "duration": 0.279043,
     "end_time": "2022-06-20T13:26:47.874295",
     "exception": false,
     "start_time": "2022-06-20T13:26:47.595252",
     "status": "completed"
    },
    "tags": []
   },
   "outputs": [
    {
     "data": {
      "text/plain": [
       "['/kaggle/input/uw-madison-gi-tract-image-segmentation/train/case123/case123_day20/scans/slice_0001_266_266_1.50_1.50.png',\n",
       " '/kaggle/input/uw-madison-gi-tract-image-segmentation/train/case123/case123_day20/scans/slice_0003_266_266_1.50_1.50.png',\n",
       " '/kaggle/input/uw-madison-gi-tract-image-segmentation/train/case123/case123_day20/scans/slice_0005_266_266_1.50_1.50.png']"
      ]
     },
     "execution_count": 12,
     "metadata": {},
     "output_type": "execute_result"
    }
   ],
   "source": [
    "channels=CFG.num_slices\n",
    "stride=2\n",
    "for i in range(channels):\n",
    "    test_df[f'image_path_{i:02}'] = test_df.groupby(['case','day'])['image_path'].shift(-i*stride).fillna(method=\"ffill\")\n",
    "test_df['image_paths'] = test_df[[f'image_path_{i:02d}' for i in range(channels)]].values.tolist()\n",
    "test_df.image_paths[0]"
   ]
  },
  {
   "cell_type": "markdown",
   "id": "858b0d90",
   "metadata": {
    "papermill": {
     "duration": 0.2557,
     "end_time": "2022-06-20T13:26:48.388133",
     "exception": false,
     "start_time": "2022-06-20T13:26:48.132433",
     "status": "completed"
    },
    "tags": []
   },
   "source": [
    "# 🍚 Dataset"
   ]
  },
  {
   "cell_type": "code",
   "execution_count": 13,
   "id": "7cc0980b",
   "metadata": {
    "_kg_hide-input": true,
    "execution": {
     "iopub.execute_input": "2022-06-20T13:26:48.905887Z",
     "iopub.status.busy": "2022-06-20T13:26:48.904975Z",
     "iopub.status.idle": "2022-06-20T13:26:48.906878Z",
     "shell.execute_reply": "2022-06-20T13:26:48.907296Z",
     "shell.execute_reply.started": "2022-06-20T12:51:43.684803Z"
    },
    "papermill": {
     "duration": 0.267209,
     "end_time": "2022-06-20T13:26:48.907442",
     "exception": false,
     "start_time": "2022-06-20T13:26:48.640233",
     "status": "completed"
    },
    "tags": []
   },
   "outputs": [],
   "source": [
    "class BuildDataset(torch.utils.data.Dataset):\n",
    "    def __init__(self, df, label=False, transforms=None):\n",
    "        self.df         = df\n",
    "        self.label      = label\n",
    "        self.img_paths  = df['image_paths'].tolist()\n",
    "        self.ids        = df['id'].tolist()\n",
    "        if 'msk_path' in df.columns:\n",
    "            self.msk_paths  = df['mask_path'].tolist()\n",
    "        else:\n",
    "            self.msk_paths = None\n",
    "        self.transforms = transforms\n",
    "        \n",
    "    def __len__(self):\n",
    "        return len(self.df)\n",
    "    \n",
    "    def __getitem__(self, index):\n",
    "        img_path  = self.img_paths[index]\n",
    "        id_       = self.ids[index]\n",
    "        img = []\n",
    "        img, shape0 = load_imgs(img_path)\n",
    "        h, w = shape0\n",
    "        if self.label:\n",
    "            msk_path = self.msk_paths[index]\n",
    "            msk = load_msk(msk_path)\n",
    "            if self.transforms:\n",
    "                data = self.transforms(image=img, mask=msk)\n",
    "                img  = data['image']\n",
    "                msk  = data['mask']\n",
    "            img = np.transpose(img, (2, 0, 1))\n",
    "            msk = np.transpose(msk, (2, 0, 1))\n",
    "            return torch.tensor(img), torch.tensor(msk)\n",
    "        else:\n",
    "            if self.transforms:\n",
    "                data = self.transforms(image=img)\n",
    "                img  = data['image']\n",
    "            img = np.transpose(img, (2, 0, 1))\n",
    "            return torch.tensor(img), id_, h, w"
   ]
  },
  {
   "cell_type": "markdown",
   "id": "73225b9f",
   "metadata": {
    "papermill": {
     "duration": 0.253675,
     "end_time": "2022-06-20T13:26:49.416363",
     "exception": false,
     "start_time": "2022-06-20T13:26:49.162688",
     "status": "completed"
    },
    "tags": []
   },
   "source": [
    "# 🌈 Augmentations"
   ]
  },
  {
   "cell_type": "code",
   "execution_count": 14,
   "id": "c6d3c05a",
   "metadata": {
    "_kg_hide-input": true,
    "_kg_hide-output": true,
    "execution": {
     "iopub.execute_input": "2022-06-20T13:26:49.937416Z",
     "iopub.status.busy": "2022-06-20T13:26:49.935727Z",
     "iopub.status.idle": "2022-06-20T13:26:49.938039Z",
     "shell.execute_reply": "2022-06-20T13:26:49.938465Z",
     "shell.execute_reply.started": "2022-06-20T12:51:43.697952Z"
    },
    "papermill": {
     "duration": 0.267795,
     "end_time": "2022-06-20T13:26:49.938614",
     "exception": false,
     "start_time": "2022-06-20T13:26:49.670819",
     "status": "completed"
    },
    "tags": []
   },
   "outputs": [],
   "source": [
    "data_transforms = {\n",
    "    \"train\": A.Compose([\n",
    "        A.Resize(*CFG.img_size, interpolation=cv2.INTER_NEAREST),\n",
    "        A.HorizontalFlip(p=0.5),\n",
    "        A.VerticalFlip(p=0.5),\n",
    "#         A.ShiftScaleRotate(shift_limit=0.0625, scale_limit=0.05, rotate_limit=5, p=0.5),\n",
    "        A.OneOf([\n",
    "            A.GridDistortion(num_steps=5, distort_limit=0.05, p=1.0),\n",
    "# #             A.OpticalDistortion(distort_limit=0.05, shift_limit=0.05, p=1.0),\n",
    "            A.ElasticTransform(alpha=1, sigma=50, alpha_affine=50, p=1.0)\n",
    "        ], p=0.25),\n",
    "#         A.CoarseDropout(max_holes=8, max_height=CFG.img_size[0]//20, max_width=CFG.img_size[1]//20,\n",
    "#                          min_holes=5, fill_value=0, mask_fill_value=0, p=0.5),\n",
    "        ], p=1.0),\n",
    "    \n",
    "    \"valid\": A.Compose([\n",
    "        A.Resize(*CFG.img_size, interpolation=cv2.INTER_NEAREST),\n",
    "        ], p=1.0)\n",
    "}"
   ]
  },
  {
   "cell_type": "code",
   "execution_count": 15,
   "id": "a421960d",
   "metadata": {
    "execution": {
     "iopub.execute_input": "2022-06-20T13:26:50.460055Z",
     "iopub.status.busy": "2022-06-20T13:26:50.459341Z",
     "iopub.status.idle": "2022-06-20T13:26:51.377169Z",
     "shell.execute_reply": "2022-06-20T13:26:51.376635Z",
     "shell.execute_reply.started": "2022-06-20T12:51:43.710873Z"
    },
    "papermill": {
     "duration": 1.18402,
     "end_time": "2022-06-20T13:26:51.377314",
     "exception": false,
     "start_time": "2022-06-20T13:26:50.193294",
     "status": "completed"
    },
    "tags": []
   },
   "outputs": [],
   "source": [
    "import cupy as cp\n",
    "\n",
    "def mask2rle(msk, thr=0.5):\n",
    "    '''\n",
    "    img: numpy array, 1 - mask, 0 - background\n",
    "    Returns run length as string formated\n",
    "    '''\n",
    "    msk    = cp.array(msk)\n",
    "    pixels = msk.flatten()\n",
    "    pad    = cp.array([0])\n",
    "    pixels = cp.concatenate([pad, pixels, pad])\n",
    "    runs   = cp.where(pixels[1:] != pixels[:-1])[0] + 1\n",
    "    runs[1::2] -= runs[::2]\n",
    "    return ' '.join(str(x) for x in runs)\n",
    "\n",
    "def masks2rles(msks, ids, heights, widths):\n",
    "    pred_strings = []; pred_ids = []; pred_classes = [];\n",
    "    for idx in range(msks.shape[0]):\n",
    "        msk = msks[idx]\n",
    "        height = heights[idx].item()\n",
    "        width = widths[idx].item()\n",
    "        \n",
    "        msk = cv2.resize(msk, dsize=(width, height), interpolation=cv2.INTER_NEAREST)\n",
    "\n",
    "#         shape0 = np.array([height, width])\n",
    "#         resize = np.array(CFG.img_size)\n",
    "#         if np.any(shape0!=resize):\n",
    "#             diff = resize - shape0\n",
    "#             pad0 = diff[0]\n",
    "#             pad1 = diff[1]\n",
    "#             pady = [pad0//2, pad0//2 + pad0%2]\n",
    "#             padx = [pad1//2, pad1//2 + pad1%2]\n",
    "#             msk = msk[pady[0]:-pady[1], padx[0]:-padx[1], :]\n",
    "#             msk = msk.reshape((*shape0, 3))\n",
    "\n",
    "#         left = (width - msks[idx].shape[0])//2\n",
    "#         right = left\n",
    "#         top = (height - msks[idx].shape[1])//2\n",
    "#         bottom = top\n",
    "#         msk = cv2.copyMakeBorder(msks[idx], top, bottom, left, right, cv2.BORDER_CONSTANT, 0)\n",
    "        \n",
    "        rle = [None]*3\n",
    "        for midx in [0, 1, 2]:\n",
    "            rle[midx] = mask2rle(msk[...,midx])\n",
    "        pred_strings.extend(rle)\n",
    "        pred_ids.extend([ids[idx]]*len(rle))\n",
    "        pred_classes.extend(['large_bowel', 'small_bowel', 'stomach'])\n",
    "    return pred_strings, pred_ids, pred_classes"
   ]
  },
  {
   "cell_type": "markdown",
   "id": "5ad723a8",
   "metadata": {
    "papermill": {
     "duration": 0.261604,
     "end_time": "2022-06-20T13:26:51.896985",
     "exception": false,
     "start_time": "2022-06-20T13:26:51.635381",
     "status": "completed"
    },
    "tags": []
   },
   "source": [
    "# 📦 Model\n"
   ]
  },
  {
   "cell_type": "code",
   "execution_count": 16,
   "id": "cc02c1a8",
   "metadata": {
    "execution": {
     "iopub.execute_input": "2022-06-20T13:26:52.433461Z",
     "iopub.status.busy": "2022-06-20T13:26:52.432556Z",
     "iopub.status.idle": "2022-06-20T13:26:52.435042Z",
     "shell.execute_reply": "2022-06-20T13:26:52.434587Z",
     "shell.execute_reply.started": "2022-06-20T12:51:44.911925Z"
    },
    "papermill": {
     "duration": 0.278333,
     "end_time": "2022-06-20T13:26:52.435162",
     "exception": false,
     "start_time": "2022-06-20T13:26:52.156829",
     "status": "completed"
    },
    "tags": []
   },
   "outputs": [],
   "source": [
    "import sys\n",
    "sys.path.append(\"../input/smp-lib/segmentation_models.pytorch/\")"
   ]
  },
  {
   "cell_type": "code",
   "execution_count": 17,
   "id": "f831ffcf",
   "metadata": {
    "_kg_hide-input": true,
    "execution": {
     "iopub.execute_input": "2022-06-20T13:26:52.969359Z",
     "iopub.status.busy": "2022-06-20T13:26:52.968419Z",
     "iopub.status.idle": "2022-06-20T13:26:54.230131Z",
     "shell.execute_reply": "2022-06-20T13:26:54.229502Z",
     "shell.execute_reply.started": "2022-06-20T12:51:44.918092Z"
    },
    "papermill": {
     "duration": 1.53722,
     "end_time": "2022-06-20T13:26:54.230281",
     "exception": false,
     "start_time": "2022-06-20T13:26:52.693061",
     "status": "completed"
    },
    "tags": []
   },
   "outputs": [],
   "source": [
    "import segmentation_models_pytorch as smp\n",
    "\n",
    "class model_segmentation(nn.Module):\n",
    "\n",
    "    def __init__(self, path, backbone):\n",
    "        super(model_segmentation, self).__init__()\n",
    "\n",
    "        if \"upp\" not in path:\n",
    "            self.model_unet = smp.Unet(\n",
    "                                encoder_name=CFG.backbone['b7'], \n",
    "    #                             wt_file_path=CFG.bb_path,\n",
    "                                encoder_weights=CFG.weights[0],\n",
    "                                in_channels=3, \n",
    "                                classes=CFG.num_classes, \n",
    "                                activation=None\n",
    "                             )\n",
    "        else:\n",
    "            self.model_unet = smp.UnetPlusPlus(\n",
    "                                encoder_name=CFG.backbone['b7'], \n",
    "    #                             wt_file_path=CFG.bb_path,\n",
    "                                encoder_weights=CFG.weights[0],\n",
    "                                in_channels=3, \n",
    "                                classes=CFG.num_classes, \n",
    "                                activation=None\n",
    "                             )\n",
    "\n",
    "        self.model_fpn = smp.FPN(\n",
    "                            encoder_name=CFG.backbone['b7'], \n",
    "#                             wt_file_path=CFG.bb_path,\n",
    "                            encoder_weights=CFG.weights[0],\n",
    "                            in_channels=3, \n",
    "                            classes=CFG.num_classes, \n",
    "                            activation=None\n",
    "                         )\n",
    "\n",
    "    def forward(self, x):\n",
    "        \n",
    "        global_features_unet = self.model_unet.encoder(x)\n",
    "#         print(global_features[0].size())\n",
    "#         global_features_fpn = self.model_fpn.encoder(x)\n",
    "#         wt = torch.tensor([0.5], dtype=torch.float16).to(CFG.device)        \n",
    "        global_features = global_features_unet # []\n",
    "#         for i in range(6):                    \n",
    "#             global_features.append(torch.mul(wt, global_features_unet[i]) + torch.mul(wt, global_features_fpn[i]))\n",
    "            \n",
    "        # IndexError: tuple index out of range -> *global_features\n",
    "        seg_feature_unet = self.model_unet.decoder(*global_features)\n",
    "        seg_feature_fpn = self.model_fpn.decoder(*global_features)\n",
    "        \n",
    "        out_u = self.model_unet.segmentation_head(seg_feature_unet)\n",
    "        out_f = self.model_fpn.segmentation_head(seg_feature_fpn)\n",
    "        \n",
    "        return 0.65 * out_u + 0.35 * out_f\n",
    "    \n",
    "\n",
    "def build_model(backbone, path, arch='u'):\n",
    "    if CFG.shared_enc == False:\n",
    "        model = smp.Unet(\n",
    "            encoder_name=backbone,      # choose encoder, e.g. mobilenet_v2 or efficientnet-b7\n",
    "            encoder_weights=None,     # use `imagenet` pre-trained weights for encoder initialization\n",
    "            in_channels=CFG.num_slices,                  # model input channels (1 for gray-scale images, 3 for RGB, etc.)\n",
    "            classes=CFG.num_classes,        # model output channels (number of classes in your dataset)\n",
    "            activation=None,\n",
    "            decoder_attention_type=CFG.attention,\n",
    "        )\n",
    "    else:\n",
    "        model = model_segmentation(path, backbone)\n",
    "\n",
    "    model.to(CFG.device)\n",
    "    return model\n",
    "\n",
    "def load_model(path):\n",
    "    if \"b5\" in path.split('.')[-2].split('/')[-1]:\n",
    "        model = build_model(CFG.backbone['b5'], path)\n",
    "    elif \"b7\" in path.split('.')[-2].split('/')[-1]:\n",
    "        model = build_model(CFG.backbone['b7'], path)\n",
    "    elif \"b8\" in path.split('.')[-2].split('/')[-1]:\n",
    "        model = build_model(CFG.backbone['b8'], path)\n",
    "    elif \"b0\" in path.split('.')[-2].split('/')[-1]:\n",
    "        model = build_model(CFG.backbone['b0'], path)\n",
    "    elif \"rns2e\" in path.split('.')[-2].split('/')[-1]:\n",
    "        model = build_model(CFG.backbone['rns2e'], path)\n",
    "    elif \"v2l\" in path.split('.')[-2].split('/')[-1]:\n",
    "        model = build_model(CFG.backbone['v2l'], path)\n",
    "\n",
    "    model.load_state_dict(torch.load(path))#['model'])\n",
    "    model.eval()\n",
    "    return model"
   ]
  },
  {
   "cell_type": "markdown",
   "id": "146299f4",
   "metadata": {
    "papermill": {
     "duration": 0.256528,
     "end_time": "2022-06-20T13:26:54.745850",
     "exception": false,
     "start_time": "2022-06-20T13:26:54.489322",
     "status": "completed"
    },
    "tags": []
   },
   "source": [
    "# 🔭 Inference"
   ]
  },
  {
   "cell_type": "code",
   "execution_count": 18,
   "id": "73be5265",
   "metadata": {
    "execution": {
     "iopub.execute_input": "2022-06-20T13:26:55.264666Z",
     "iopub.status.busy": "2022-06-20T13:26:55.263038Z",
     "iopub.status.idle": "2022-06-20T13:26:55.265273Z",
     "shell.execute_reply": "2022-06-20T13:26:55.265688Z",
     "shell.execute_reply.started": "2022-06-20T12:51:46.008409Z"
    },
    "papermill": {
     "duration": 0.264863,
     "end_time": "2022-06-20T13:26:55.265851",
     "exception": false,
     "start_time": "2022-06-20T13:26:55.000988",
     "status": "completed"
    },
    "tags": []
   },
   "outputs": [],
   "source": [
    "ttach_transforms = tta.Compose(\n",
    "    [\n",
    "#         tta.HorizontalFlip(),\n",
    "#         tta.Rotate90(angles=[0, 180]),\n",
    "#         tta.Scale(scales=[0.9,1,1.1]), # Sizes of tensors must match except in dimension 3. Got 21 and 20 (The offending index is 0)\n",
    "#         tta.Multiply(factors=[0.9, 1, 1.1]),        \n",
    "    ]\n",
    ")"
   ]
  },
  {
   "cell_type": "code",
   "execution_count": 19,
   "id": "31032c13",
   "metadata": {
    "_kg_hide-input": true,
    "execution": {
     "iopub.execute_input": "2022-06-20T13:26:55.793889Z",
     "iopub.status.busy": "2022-06-20T13:26:55.792216Z",
     "iopub.status.idle": "2022-06-20T13:26:55.794466Z",
     "shell.execute_reply": "2022-06-20T13:26:55.794900Z",
     "shell.execute_reply.started": "2022-06-20T12:51:46.016417Z"
    },
    "papermill": {
     "duration": 0.272692,
     "end_time": "2022-06-20T13:26:55.795044",
     "exception": false,
     "start_time": "2022-06-20T13:26:55.522352",
     "status": "completed"
    },
    "tags": []
   },
   "outputs": [],
   "source": [
    "@torch.no_grad()\n",
    "def infer(model_paths, test_loader, num_log=1, thr=CFG.thr):\n",
    "    msks = []; imgs = [];\n",
    "    pred_strings = []; pred_ids = []; pred_classes = [];\n",
    "    for idx, (img, ids, heights, widths) in enumerate(tqdm(test_loader, total=len(test_loader), desc='Infer ')):\n",
    "        img = img.to(CFG.device, dtype=torch.float) # .squeeze(0)\n",
    "        size = img.size()\n",
    "        msk = []\n",
    "        msk = torch.zeros((size[0], 3, size[2], size[3]), device=CFG.device, dtype=torch.float32)\n",
    "        for path in model_paths:\n",
    "            model = load_model(path)\n",
    "            if CFG.tta == True:\n",
    "                tta_model = tta.SegmentationTTAWrapper(model, ttach_transforms, merge_mode=\"max\")\n",
    "                out = tta_model(img)\n",
    "            else:\n",
    "                out   = model(img) # .squeeze(0) # removing batch axis\n",
    "            out   = nn.Sigmoid()(out) # removing channel axis\n",
    "#             if \"uppfpn\" in path:\n",
    "#                 alpha = CFG.alpha[0]\n",
    "#             elif \"ufpn\" in path:\n",
    "#                 alpha = CFG.alpha[1]\n",
    "#             else:\n",
    "#                 alpha = CFG.alpha[2]\n",
    "            alpha = 1\n",
    "            msk  += (alpha * out) / len(model_paths)\n",
    "        msk = (msk.permute((0,2,3,1))>thr).to(torch.uint8).cpu().detach().numpy() # shape: (n, h, w, c)\n",
    "        result = masks2rles(msk, ids, heights, widths)\n",
    "        pred_strings.extend(result[0])\n",
    "        pred_ids.extend(result[1])\n",
    "        pred_classes.extend(result[2])\n",
    "        if idx<num_log:\n",
    "            img = img.permute((0,2,3,1)).cpu().detach().numpy()\n",
    "            imgs.append(img[:10])\n",
    "            msks.append(msk[:10])\n",
    "        del img, msk, out, model, result\n",
    "        gc.collect()\n",
    "        torch.cuda.empty_cache()\n",
    "    return pred_strings, pred_ids, pred_classes, imgs, msks"
   ]
  },
  {
   "cell_type": "code",
   "execution_count": 20,
   "id": "4bc4c0be",
   "metadata": {
    "execution": {
     "iopub.execute_input": "2022-06-20T13:26:56.318458Z",
     "iopub.status.busy": "2022-06-20T13:26:56.316837Z",
     "iopub.status.idle": "2022-06-20T13:26:56.319070Z",
     "shell.execute_reply": "2022-06-20T13:26:56.319481Z",
     "shell.execute_reply.started": "2022-06-20T12:51:46.035721Z"
    },
    "papermill": {
     "duration": 0.266236,
     "end_time": "2022-06-20T13:26:56.319614",
     "exception": false,
     "start_time": "2022-06-20T13:26:56.053378",
     "status": "completed"
    },
    "tags": []
   },
   "outputs": [],
   "source": [
    "# import os, shutil\n",
    "# from pprint import pprint\n",
    "# os.makedirs(\"/root/.cache/torch/hub/checkpoints/\", exist_ok=True)\n",
    "# shutil.copy(f\"{CFG.bb_path[0]}\", \"/root/.cache/torch/hub/checkpoints/\")\n",
    "# shutil.copy(f\"{CFG.bb_path[1]}\", \"/root/.cache/torch/hub/checkpoints/\")\n",
    "# shutil.move(\"/root/.cache/torch/hub/checkpoints/tf_efficientnet_b0_ns-c0e6a31c.pth\", \"./\")"
   ]
  },
  {
   "cell_type": "code",
   "execution_count": 21,
   "id": "915db894",
   "metadata": {
    "execution": {
     "iopub.execute_input": "2022-06-20T13:26:56.836326Z",
     "iopub.status.busy": "2022-06-20T13:26:56.835580Z",
     "iopub.status.idle": "2022-06-20T13:27:46.541788Z",
     "shell.execute_reply": "2022-06-20T13:27:46.542278Z",
     "shell.execute_reply.started": "2022-06-20T12:51:46.044876Z"
    },
    "papermill": {
     "duration": 49.969158,
     "end_time": "2022-06-20T13:27:46.542434",
     "exception": false,
     "start_time": "2022-06-20T13:26:56.573276",
     "status": "completed"
    },
    "tags": []
   },
   "outputs": [
    {
     "name": "stderr",
     "output_type": "stream",
     "text": [
      "Infer : 100%|██████████| 32/32 [00:49<00:00,  1.55s/it]\n"
     ]
    }
   ],
   "source": [
    "model_paths = []\n",
    "for ckpt_dir in CKPT_DIRS:\n",
    "    \n",
    "#     if \"b5\" in path.split('.')[-2].split('/')[-1]:\n",
    "#         val_bs = CFG.valid_bs['b5']\n",
    "#     if \"b7\" in path.split('.')[-2].split('/')[-1]:\n",
    "#         val_bs = CFG.valid_bs['b7']\n",
    "#     test_dataset = BuildDataset(test_df, transforms=data_transforms['valid'])\n",
    "#     test_loader  = DataLoader(test_dataset, batch_size=val_bs, \n",
    "#                               num_workers=4, shuffle=False, pin_memory=False)\n",
    "    model_path  = sorted(list(glob(f'{ckpt_dir}/*.bin')))\n",
    "    model_paths.extend(model_path)\n",
    "# print(model_paths[:7])\n",
    "test_dataset = BuildDataset(test_df, transforms=data_transforms['valid'])\n",
    "test_loader  = DataLoader(test_dataset, batch_size=CFG.valid_bs, \n",
    "                          num_workers=4, shuffle=False, pin_memory=False)\n",
    "pred_strings, pred_ids, pred_classes, imgs, msks = infer(model_paths, test_loader)"
   ]
  },
  {
   "cell_type": "markdown",
   "id": "13a7d156",
   "metadata": {
    "papermill": {
     "duration": 0.264779,
     "end_time": "2022-06-20T13:27:47.075245",
     "exception": false,
     "start_time": "2022-06-20T13:27:46.810466",
     "status": "completed"
    },
    "tags": []
   },
   "source": [
    "# 📈 Visualization"
   ]
  },
  {
   "cell_type": "code",
   "execution_count": 22,
   "id": "b6fa75e4",
   "metadata": {
    "_kg_hide-input": true,
    "execution": {
     "iopub.execute_input": "2022-06-20T13:27:47.611873Z",
     "iopub.status.busy": "2022-06-20T13:27:47.611079Z",
     "iopub.status.idle": "2022-06-20T13:27:47.613105Z",
     "shell.execute_reply": "2022-06-20T13:27:47.613481Z",
     "shell.execute_reply.started": "2022-06-20T12:52:35.638302Z"
    },
    "papermill": {
     "duration": 0.27211,
     "end_time": "2022-06-20T13:27:47.613615",
     "exception": false,
     "start_time": "2022-06-20T13:27:47.341505",
     "status": "completed"
    },
    "tags": []
   },
   "outputs": [],
   "source": [
    "# for img, msk in zip(imgs[0][:5], msks[0][:5]):\n",
    "#     plt.figure(figsize=(12, 7))\n",
    "#     plt.subplot(1, 3, 1); plt.imshow(img, cmap='bone');\n",
    "#     plt.axis('OFF'); plt.title('image')\n",
    "#     plt.subplot(1, 3, 2); plt.imshow(msk*255); plt.axis('OFF'); plt.title('mask')\n",
    "#     plt.subplot(1, 3, 3); plt.imshow(img, cmap='bone'); plt.imshow(msk*255, alpha=0.4);\n",
    "#     plt.axis('OFF'); plt.title('overlay')\n",
    "#     plt.tight_layout()\n",
    "#     plt.show()"
   ]
  },
  {
   "cell_type": "code",
   "execution_count": 23,
   "id": "f3fcab7c",
   "metadata": {
    "execution": {
     "iopub.execute_input": "2022-06-20T13:27:48.354676Z",
     "iopub.status.busy": "2022-06-20T13:27:48.353033Z",
     "iopub.status.idle": "2022-06-20T13:27:48.356735Z",
     "shell.execute_reply": "2022-06-20T13:27:48.356281Z",
     "shell.execute_reply.started": "2022-06-20T12:52:35.644616Z"
    },
    "papermill": {
     "duration": 0.477035,
     "end_time": "2022-06-20T13:27:48.356883",
     "exception": false,
     "start_time": "2022-06-20T13:27:47.879848",
     "status": "completed"
    },
    "tags": []
   },
   "outputs": [
    {
     "data": {
      "text/plain": [
       "42"
      ]
     },
     "execution_count": 23,
     "metadata": {},
     "output_type": "execute_result"
    }
   ],
   "source": [
    "del imgs, msks\n",
    "gc.collect()"
   ]
  },
  {
   "cell_type": "markdown",
   "id": "77c3bd67",
   "metadata": {
    "papermill": {
     "duration": 0.264146,
     "end_time": "2022-06-20T13:27:48.888562",
     "exception": false,
     "start_time": "2022-06-20T13:27:48.624416",
     "status": "completed"
    },
    "tags": []
   },
   "source": [
    "# 📝 Submission"
   ]
  },
  {
   "cell_type": "code",
   "execution_count": 24,
   "id": "a0a9a19d",
   "metadata": {
    "_kg_hide-input": true,
    "execution": {
     "iopub.execute_input": "2022-06-20T13:27:49.428896Z",
     "iopub.status.busy": "2022-06-20T13:27:49.427888Z",
     "iopub.status.idle": "2022-06-20T13:27:49.720817Z",
     "shell.execute_reply": "2022-06-20T13:27:49.721203Z",
     "shell.execute_reply.started": "2022-06-20T12:52:35.869763Z"
    },
    "papermill": {
     "duration": 0.567119,
     "end_time": "2022-06-20T13:27:49.721364",
     "exception": false,
     "start_time": "2022-06-20T13:27:49.154245",
     "status": "completed"
    },
    "tags": []
   },
   "outputs": [
    {
     "data": {
      "text/html": [
       "<div>\n",
       "<style scoped>\n",
       "    .dataframe tbody tr th:only-of-type {\n",
       "        vertical-align: middle;\n",
       "    }\n",
       "\n",
       "    .dataframe tbody tr th {\n",
       "        vertical-align: top;\n",
       "    }\n",
       "\n",
       "    .dataframe thead th {\n",
       "        text-align: right;\n",
       "    }\n",
       "</style>\n",
       "<table border=\"1\" class=\"dataframe\">\n",
       "  <thead>\n",
       "    <tr style=\"text-align: right;\">\n",
       "      <th></th>\n",
       "      <th>id</th>\n",
       "      <th>class</th>\n",
       "      <th>predicted</th>\n",
       "    </tr>\n",
       "  </thead>\n",
       "  <tbody>\n",
       "    <tr>\n",
       "      <th>0</th>\n",
       "      <td>case123_day20_slice_0001</td>\n",
       "      <td>large_bowel</td>\n",
       "      <td></td>\n",
       "    </tr>\n",
       "    <tr>\n",
       "      <th>1</th>\n",
       "      <td>case123_day20_slice_0001</td>\n",
       "      <td>small_bowel</td>\n",
       "      <td></td>\n",
       "    </tr>\n",
       "    <tr>\n",
       "      <th>2</th>\n",
       "      <td>case123_day20_slice_0001</td>\n",
       "      <td>stomach</td>\n",
       "      <td></td>\n",
       "    </tr>\n",
       "    <tr>\n",
       "      <th>3</th>\n",
       "      <td>case123_day20_slice_0002</td>\n",
       "      <td>large_bowel</td>\n",
       "      <td></td>\n",
       "    </tr>\n",
       "    <tr>\n",
       "      <th>4</th>\n",
       "      <td>case123_day20_slice_0002</td>\n",
       "      <td>small_bowel</td>\n",
       "      <td></td>\n",
       "    </tr>\n",
       "  </tbody>\n",
       "</table>\n",
       "</div>"
      ],
      "text/plain": [
       "                         id        class predicted\n",
       "0  case123_day20_slice_0001  large_bowel          \n",
       "1  case123_day20_slice_0001  small_bowel          \n",
       "2  case123_day20_slice_0001      stomach          \n",
       "3  case123_day20_slice_0002  large_bowel          \n",
       "4  case123_day20_slice_0002  small_bowel          "
      ]
     },
     "metadata": {},
     "output_type": "display_data"
    }
   ],
   "source": [
    "pred_df = pd.DataFrame({\n",
    "    \"id\":pred_ids,\n",
    "    \"class\":pred_classes,\n",
    "    \"predicted\":pred_strings\n",
    "})\n",
    "if not debug:\n",
    "    sub_df = pd.read_csv('../input/uw-madison-gi-tract-image-segmentation/sample_submission.csv')\n",
    "    del sub_df['predicted']\n",
    "else:\n",
    "    sub_df = pd.read_csv('../input/uw-madison-gi-tract-image-segmentation/train.csv')[:1000*3]\n",
    "    del sub_df['segmentation']\n",
    "    \n",
    "sub_df = sub_df.merge(pred_df, on=['id','class'])\n",
    "sub_df.to_csv('submission.csv',index=False)\n",
    "display(sub_df.head(5))"
   ]
  },
  {
   "cell_type": "code",
   "execution_count": null,
   "id": "f2b3c6c3",
   "metadata": {
    "papermill": {
     "duration": 0.264942,
     "end_time": "2022-06-20T13:27:50.255104",
     "exception": false,
     "start_time": "2022-06-20T13:27:49.990162",
     "status": "completed"
    },
    "tags": []
   },
   "outputs": [],
   "source": []
  }
 ],
 "metadata": {
  "kernelspec": {
   "display_name": "Python 3",
   "language": "python",
   "name": "python3"
  },
  "language_info": {
   "codemirror_mode": {
    "name": "ipython",
    "version": 3
   },
   "file_extension": ".py",
   "mimetype": "text/x-python",
   "name": "python",
   "nbconvert_exporter": "python",
   "pygments_lexer": "ipython3",
   "version": "3.7.10"
  },
  "papermill": {
   "default_parameters": {},
   "duration": 330.64024,
   "end_time": "2022-06-20T13:27:54.093896",
   "environment_variables": {},
   "exception": null,
   "input_path": "__notebook__.ipynb",
   "output_path": "__notebook__.ipynb",
   "parameters": {},
   "start_time": "2022-06-20T13:22:23.453656",
   "version": "2.3.3"
  }
 },
 "nbformat": 4,
 "nbformat_minor": 5
}
